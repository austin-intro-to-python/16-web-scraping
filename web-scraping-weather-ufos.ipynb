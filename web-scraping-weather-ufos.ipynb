{
 "cells": [
  {
   "cell_type": "markdown",
   "metadata": {},
   "source": [
    "# Getting Data from the Web\n",
    "\n",
    "This class will provide an introduction to programmatically accessing data from websites and APIs using Python. \n",
    "\n",
    "## Table of Contents\n",
    "1. [APIs](#1)\n",
    "  1. [What are they?](#1)\n",
    "  2. [Movies](#1B)\n",
    "  3. [Color Palette Data](#1C)\n",
    "2. [Scraping](#2)\n",
    "  1. [Weather](#2A)\n",
    "  2. [UFO Sitings](#2B)"
   ]
  },
  {
   "cell_type": "markdown",
   "metadata": {},
   "source": [
    "## API (Application Programming Interface) <a id=\"1\"></a>\n",
    "\n",
    "What is an API?\n",
    "- Structured way to expose specific functionality and data to users\n",
    "- Web APIs usually follow the \"REST\" standard (i.e. stateless)\n",
    "\n",
    "How to interact with an API:\n",
    "- Make a \"request\" to a specific URL (an \"endpoint\"), and get the data back in a \"response\"\n",
    "- Most relevant request method for us is GET (other methods: POST, PUT, DELETE)\n",
    "- Response is often JSON or XML format\n",
    "- Web console is sometimes available (allows you to explore an API)"
   ]
  },
  {
   "cell_type": "markdown",
   "metadata": {},
   "source": [
    "### Movie Data from IMDB <a id=\"1B\"></a>"
   ]
  },
  {
   "cell_type": "code",
   "execution_count": 3,
   "metadata": {},
   "outputs": [],
   "source": [
    "import pandas as pd\n",
    "import requests"
   ]
  },
  {
   "cell_type": "markdown",
   "metadata": {},
   "source": [
    "### Using the Requests Library\n",
    "We will submit a get request to specific movie to the URL: `http://www.omdbapi.com`"
   ]
  },
  {
   "cell_type": "code",
   "execution_count": 4,
   "metadata": {},
   "outputs": [],
   "source": [
    "API_KEY = \"53bfc95d\" # <- Super Secret Shhhh\n",
    "title = \"Jurassic Park\" #Search for a movie you like\n",
    "url = 'http://www.omdbapi.com?'\n",
    "\n",
    "payload = {'t': title,\n",
    "           'apikey': API_KEY}\n",
    "\n",
    "r = requests.get('http://www.omdbapi.com?', params=payload)"
   ]
  },
  {
   "cell_type": "code",
   "execution_count": 5,
   "metadata": {},
   "outputs": [
    {
     "data": {
      "text/plain": [
       "200"
      ]
     },
     "execution_count": 5,
     "metadata": {},
     "output_type": "execute_result"
    }
   ],
   "source": [
    "# check the status: 200 means success, 4xx or 5xx means error\n",
    "r.status_code"
   ]
  },
  {
   "cell_type": "code",
   "execution_count": 6,
   "metadata": {},
   "outputs": [
    {
     "data": {
      "text/plain": [
       "'http://www.omdbapi.com/?t=Jurassic+Park&apikey=53bfc95d'"
      ]
     },
     "execution_count": 6,
     "metadata": {},
     "output_type": "execute_result"
    }
   ],
   "source": [
    "r.url"
   ]
  },
  {
   "cell_type": "markdown",
   "metadata": {},
   "source": [
    "We know from the documentation on omdapi.com that the response is a `JSON` object."
   ]
  },
  {
   "cell_type": "code",
   "execution_count": 7,
   "metadata": {},
   "outputs": [
    {
     "data": {
      "text/plain": [
       "{'Title': 'Jurassic Park',\n",
       " 'Year': '1993',\n",
       " 'Rated': 'PG-13',\n",
       " 'Released': '11 Jun 1993',\n",
       " 'Runtime': '127 min',\n",
       " 'Genre': 'Adventure, Sci-Fi, Thriller',\n",
       " 'Director': 'Steven Spielberg',\n",
       " 'Writer': 'Michael Crichton (novel), Michael Crichton (screenplay), David Koepp (screenplay)',\n",
       " 'Actors': 'Sam Neill, Laura Dern, Jeff Goldblum, Richard Attenborough',\n",
       " 'Plot': 'During a preview tour, a theme park suffers a major power breakdown that allows its cloned dinosaur exhibits to run amok.',\n",
       " 'Language': 'English, Spanish',\n",
       " 'Country': 'USA',\n",
       " 'Awards': 'Won 3 Oscars. Another 32 wins & 25 nominations.',\n",
       " 'Poster': 'https://m.media-amazon.com/images/M/MV5BMjM2MDgxMDg0Nl5BMl5BanBnXkFtZTgwNTM2OTM5NDE@._V1_SX300.jpg',\n",
       " 'Ratings': [{'Source': 'Internet Movie Database', 'Value': '8.1/10'},\n",
       "  {'Source': 'Rotten Tomatoes', 'Value': '91%'},\n",
       "  {'Source': 'Metacritic', 'Value': '68/100'}],\n",
       " 'Metascore': '68',\n",
       " 'imdbRating': '8.1',\n",
       " 'imdbVotes': '784,720',\n",
       " 'imdbID': 'tt0107290',\n",
       " 'Type': 'movie',\n",
       " 'DVD': '10 Oct 2000',\n",
       " 'BoxOffice': '$45,299,680',\n",
       " 'Production': 'Universal City Studios',\n",
       " 'Website': 'http://www.jurassicpark.com/maingate_flash.html',\n",
       " 'Response': 'True'}"
      ]
     },
     "execution_count": 7,
     "metadata": {},
     "output_type": "execute_result"
    }
   ],
   "source": [
    "r.json()"
   ]
  },
  {
   "cell_type": "code",
   "execution_count": 8,
   "metadata": {},
   "outputs": [
    {
     "data": {
      "text/plain": [
       "'Sam Neill, Laura Dern, Jeff Goldblum, Richard Attenborough'"
      ]
     },
     "execution_count": 8,
     "metadata": {},
     "output_type": "execute_result"
    }
   ],
   "source": [
    "#We can call out specific elements\n",
    "r.json()['Actors']"
   ]
  },
  {
   "cell_type": "markdown",
   "metadata": {},
   "source": [
    "What happens if the movie isn't found?"
   ]
  },
  {
   "cell_type": "code",
   "execution_count": 9,
   "metadata": {},
   "outputs": [
    {
     "name": "stdout",
     "output_type": "stream",
     "text": [
      "200\n"
     ]
    },
    {
     "data": {
      "text/plain": [
       "{'Response': 'False', 'Error': 'Movie not found!'}"
      ]
     },
     "execution_count": 9,
     "metadata": {},
     "output_type": "execute_result"
    }
   ],
   "source": [
    "payload = {'apikey': API_KEY, \n",
    "          't': 'Philip is a dope dude'}\n",
    "\n",
    "r = requests.get(url, params=payload)\n",
    "print(r.status_code)\n",
    "r.json()"
   ]
  },
  {
   "cell_type": "markdown",
   "metadata": {},
   "source": [
    "### Exercise\n",
    "Python strongly emphasizes the *Don't Repeat Yourself (DRY)* programming paradigm, and accessing APIs can be a very repeative process for gathering lots of data. This repeatition movates people to write language based *clients* or *thin client wrappers* to make calls to an API easier by using fucntions native to that programming language. \n",
    "\n",
    "Define a function to return the year of release of a given movie title, return None if no movie found."
   ]
  },
  {
   "cell_type": "code",
   "execution_count": 10,
   "metadata": {},
   "outputs": [],
   "source": [
    "def get_movie_year(title):\n",
    "    \n",
    "    payload = {\n",
    "        'apikey': API_KEY,\n",
    "        't': title\n",
    "    }\n",
    "    \n",
    "    r = requests.get(url, params=payload)\n",
    "    year = r.json()['Year']\n",
    "    \n",
    "    return year"
   ]
  },
  {
   "cell_type": "code",
   "execution_count": 11,
   "metadata": {},
   "outputs": [
    {
     "data": {
      "text/plain": [
       "'2004'"
      ]
     },
     "execution_count": 11,
     "metadata": {},
     "output_type": "execute_result"
    }
   ],
   "source": [
    "get_movie_year(\"Howl's Moving Castle\")"
   ]
  },
  {
   "cell_type": "markdown",
   "metadata": {},
   "source": [
    "### Business Use Case Discussion\n",
    "* How might managers or clients ask us to leverage text data such as this to inform business decisions?\n",
    "* What could we do if we mashed this movie meta data up with movie review data from a source such as Rotten Tomatoes?"
   ]
  },
  {
   "cell_type": "markdown",
   "metadata": {},
   "source": [
    "## Color Wheel <a id='1C'></a>\n",
    "In this example, accessing data on some of the colors of Crayola® palette via the Smithosian Cooper Hewitt's API. Archievists at Cooper Hewitt use this palette to tag images of objects by color. Downstream, these tags allow for a greater accuracy in information retrival for users looking for objects of a certain hue.\n",
    "\n",
    "### Business Use Case\n",
    "A major online retailer aggregator has asked to Deloitte to help it increase the efficetiveness of its search engine. They found that users are searching their catalog of over 100,000 items by color. However, many of the items don't have color tags making the search process frustrating for users. \n",
    "\n",
    "Our role will be to leverage the Cooper Hewitt's extensive online catalog of design objects tagged with colors to build a training set for automated tagging for the client with machine learning. \n",
    "\n",
    "If our future algorithm is successful, it will save our client thousands of hours to manual labor tagging the images on their website.\n",
    "\n",
    "\n",
    "*__Note:__ This API implements the new standard for API autentication by using OAuth2 with access tokens. I've created a token for us ahead of time.*\n",
    "\n",
    "[Article on Cooper Hewitt's API](https://labs.cooperhewitt.org/2014/the-api-at-the-center-of-the-museum/)"
   ]
  },
  {
   "cell_type": "code",
   "execution_count": 12,
   "metadata": {},
   "outputs": [],
   "source": [
    "key = \"84976de03204c1d366ae0224bf21d103\"\n",
    "token = \"2f49c9d05b2faf779d11420637d99f57\""
   ]
  },
  {
   "cell_type": "code",
   "execution_count": 13,
   "metadata": {},
   "outputs": [],
   "source": [
    "base_url = 'https://api.collection.cooperhewitt.org/rest/?method=cooperhewitt.colors.palettes.getInfo&access_token=%s&palette=crayola' % token"
   ]
  },
  {
   "cell_type": "code",
   "execution_count": 14,
   "metadata": {},
   "outputs": [],
   "source": [
    "r = requests.get(base_url)"
   ]
  },
  {
   "cell_type": "code",
   "execution_count": 15,
   "metadata": {},
   "outputs": [
    {
     "data": {
      "text/plain": [
       "{'palette': 'crayola',\n",
       " 'colors': {'#fc89ac': {'name': 'Tickle Me Pink'},\n",
       "  '#1f75fe': {'name': 'Blue'},\n",
       "  '#a8e4a0': {'name': 'Granny Smith Apple'},\n",
       "  '#fc74fd': {'name': 'Pink Flamingo'},\n",
       "  '#7366bd': {'name': 'Blue Violet'},\n",
       "  '#18a7b5': {'name': 'Teal Blue'},\n",
       "  '#1164b4': {'name': 'Green Blue'},\n",
       "  '#b2ec5d': {'name': 'Inchworm'},\n",
       "  '#58427c': {'name': 'Cyber Grape'},\n",
       "  '#bf4f51': {'name': 'Bittersweet Shimmer'},\n",
       "  '#5d76cb': {'name': 'Indigo'},\n",
       "  '#c5e384': {'name': 'Yellow Green'},\n",
       "  '#8fd400': {'name': 'Sheen Green'},\n",
       "  '#4a646c': {'name': 'Deep Space Sparkle'},\n",
       "  '#ffbcd9': {'name': 'Cotton Candy'},\n",
       "  '#ff7f49': {'name': 'Burnt Orange'},\n",
       "  '#fefe22': {'name': 'Laser Lemon'},\n",
       "  '#bc5d58': {'name': 'Chestnut'},\n",
       "  '#9fe2bf': {'name': 'Sea Green'},\n",
       "  '#000000': {'name': 'Black'},\n",
       "  '#414a4c': {'name': 'Outer Space'},\n",
       "  '#7851a9': {'name': 'Royal Purple'},\n",
       "  '#ace5ee': {'name': 'Blizzard Blue'},\n",
       "  '#a2add0': {'name': 'Wild Blue Yonder'},\n",
       "  '#dd9475': {'name': 'Copper'},\n",
       "  '#ffffff': {'name': 'White'},\n",
       "  '#efdecd': {'name': 'Almond'},\n",
       "  '#bab86c': {'name': 'Olive Green'},\n",
       "  '#1974d2': {'name': 'Navy Blue'},\n",
       "  '#b4674d': {'name': 'Brown'},\n",
       "  '#ebc7df': {'name': 'Thistle'},\n",
       "  '#ff9baa': {'name': 'Salmon'},\n",
       "  '#87a96b': {'name': 'Asparagus'},\n",
       "  '#71bc78': {'name': 'Fern'},\n",
       "  '#8e4585': {'name': 'Plum'},\n",
       "  '#fae7b5': {'name': 'Banana Mania'},\n",
       "  '#979aaa': {'name': 'Manatee'},\n",
       "  '#aaf0d1': {'name': 'Magic Mint'},\n",
       "  '#c5d0e6': {'name': 'Periwinkle'},\n",
       "  '#fd5e53': {'name': 'Sunset Orange'},\n",
       "  '#80daeb': {'name': 'Sky Blue'},\n",
       "  '#2e5894': {'name': \"B'dazzled Blue\"},\n",
       "  '#ff48d0': {'name': 'Razzle Dazzle Rose'},\n",
       "  '#dd4492': {'name': 'Cerise'},\n",
       "  '#eceabe': {'name': 'Spring Green'},\n",
       "  '#1a4876': {'name': 'Midnight Blue'},\n",
       "  '#9aceeb': {'name': 'Cornflower'},\n",
       "  '#f8d568': {'name': 'Orange Yellow'},\n",
       "  '#e7c697': {'name': 'Gold'},\n",
       "  '#1cac78': {'name': 'Green'},\n",
       "  '#9c7c38': {'name': 'Metallic Sunburst'},\n",
       "  '#9f8170': {'name': 'Beaver'},\n",
       "  '#a57164': {'name': 'Blast Off Bronze'},\n",
       "  '#ff6e4a': {'name': 'Outrageous Orange'},\n",
       "  '#3bb08f': {'name': 'Jungle Green'},\n",
       "  '#fff44f': {'name': 'Lemon Yellow'},\n",
       "  '#ff43a4': {'name': 'Wild Strawberry'},\n",
       "  '#1cd3a2': {'name': 'Caribbean Green'},\n",
       "  '#cda4de': {'name': 'Wisteria'},\n",
       "  '#ffa343': {'name': 'Neon Carrot'},\n",
       "  '#efcdb8': {'name': 'Desert Sand'},\n",
       "  '#a5694f': {'name': 'Sepia'},\n",
       "  '#8d4e85': {'name': 'Razzmic Berry'},\n",
       "  '#ff7538': {'name': 'Orange'},\n",
       "  '#cb4154': {'name': 'Brick Red'},\n",
       "  '#17806d': {'name': 'Tropical Rain Forest'},\n",
       "  '#ffa089': {'name': 'Vivid Tangerine'},\n",
       "  '#cd9575': {'name': 'Antique Brass'},\n",
       "  '#cdc5c2': {'name': 'Silver'},\n",
       "  '#85754e': {'name': 'Gold Fusion'},\n",
       "  '#6699cc': {'name': 'Blue Gray'},\n",
       "  '#ea7e5d': {'name': 'Burnt Sienna'},\n",
       "  '#c46210': {'name': 'Alloy Orange'},\n",
       "  '#fdbcb4': {'name': 'Melon'},\n",
       "  '#d68a59': {'name': 'Raw Sienna'},\n",
       "  '#ffaacc': {'name': 'Carnation Pink'},\n",
       "  '#45cea2': {'name': 'Shamrock'},\n",
       "  '#ef98aa': {'name': 'Mauvelous'},\n",
       "  '#6dae81': {'name': 'Forest Green'},\n",
       "  '#ffa474': {'name': 'Atomic Tangerine'},\n",
       "  '#324ab2': {'name': 'Violet Blue'},\n",
       "  '#fddde6': {'name': 'Piggy Pink'},\n",
       "  '#ffcf48': {'name': 'Sunglow'},\n",
       "  '#c54b8c': {'name': 'Mulberry'},\n",
       "  '#0d98ba': {'name': 'Blue Green'},\n",
       "  '#f75394': {'name': 'Violet Red'},\n",
       "  '#ff496c': {'name': 'Radical Red'},\n",
       "  '#1fcecb': {'name': \"Robin's Egg Blue\"},\n",
       "  '#fb7efd': {'name': 'Shocking Pink'},\n",
       "  '#fcd975': {'name': 'Goldenrod'},\n",
       "  '#9d81ba': {'name': \"Purple Mountain's Majesty\"},\n",
       "  '#ffff99': {'name': 'Canary'},\n",
       "  '#fce883': {'name': 'Yellow'},\n",
       "  '#0a7e8c': {'name': 'Metallic Seaweed'},\n",
       "  '#6e5160': {'name': 'Eggplant'},\n",
       "  '#ff8243': {'name': 'Mango Tango'},\n",
       "  '#c8385a': {'name': 'Maroon'},\n",
       "  '#ceff1d': {'name': 'Electric Lime'},\n",
       "  '#319177': {'name': 'Illuminating Emerald'},\n",
       "  '#ee204d': {'name': 'Red'},\n",
       "  '#ff5349': {'name': 'Red Orange'},\n",
       "  '#e3256b': {'name': 'Razzmatazz'},\n",
       "  '#8f509d': {'name': 'Vivid Violet'},\n",
       "  '#ffff66': {'name': 'Unmellow Yellow'},\n",
       "  '#faa76c': {'name': 'Tan'},\n",
       "  '#ff1dce': {'name': 'Hot Magenta'},\n",
       "  '#76ff7a': {'name': \"Screamin' Green\"},\n",
       "  '#f664af': {'name': 'Magenta'},\n",
       "  '#e6a8d7': {'name': 'Orchid'},\n",
       "  '#fcb4d5': {'name': 'Lavender'},\n",
       "  '#78dbe2': {'name': 'Aquamarine'},\n",
       "  '#c0448f': {'name': 'Red Violet'},\n",
       "  '#926eae': {'name': 'Violet (Purple)'},\n",
       "  '#158078': {'name': 'Pine Green'},\n",
       "  '#ffcfab': {'name': 'Peach'},\n",
       "  '#95918c': {'name': 'Gray'},\n",
       "  '#30ba8f': {'name': 'Mountain Meadow'},\n",
       "  '#f0e891': {'name': 'Green Yellow'},\n",
       "  '#714b23': {'name': 'Raw Umber'},\n",
       "  '#deaa88': {'name': 'Tumbleweed'},\n",
       "  '#0081ab': {'name': 'Steel Blue'},\n",
       "  '#77dde7': {'name': 'Turquoise Blue'},\n",
       "  '#f78fa7': {'name': 'Pink Sherbert'},\n",
       "  '#757575': {'name': 'Sonic Silver'},\n",
       "  '#ffbd88': {'name': 'Macaroni and Cheese'},\n",
       "  '#1ca9c9': {'name': 'Pacific Blue'},\n",
       "  '#2b6cc4': {'name': 'Denim'},\n",
       "  '#a2a2d0': {'name': 'Blue Bell'},\n",
       "  '#cc6666': {'name': 'Fuzzy Wuzzy'},\n",
       "  '#7442c8': {'name': 'Purple Heart'},\n",
       "  '#cd4a4c': {'name': 'Mahogany'},\n",
       "  '#ffae42': {'name': 'Yellow Orange'},\n",
       "  '#ca3767': {'name': 'Jazzberry Jam'},\n",
       "  '#ff2b2b': {'name': 'Orange Red'},\n",
       "  '#de5d83': {'name': 'Blush'},\n",
       "  '#fc2847': {'name': 'Scarlet'},\n",
       "  '#fc6c85': {'name': 'Wild Watermelon'},\n",
       "  '#fddb6d': {'name': 'Dandelion'},\n",
       "  '#dbd7d2': {'name': 'Timberwolf'},\n",
       "  '#d98695': {'name': 'Shimmering Blush'},\n",
       "  '#fd7c6e': {'name': 'Bittersweet'},\n",
       "  '#9c2542': {'name': \"Big Dip O' Ruby\"},\n",
       "  '#edd19c': {'name': 'Maize'},\n",
       "  '#c364c5': {'name': 'Fuchsia'},\n",
       "  '#1dacd6': {'name': 'Cerulean'},\n",
       "  '#fe4eda': {'name': 'Purple Pizzazz'},\n",
       "  '#fdd9b5': {'name': 'Apricot'},\n",
       "  '#8a795d': {'name': 'Shadow'},\n",
       "  '#b0b7c6': {'name': 'Cadet Blue'}},\n",
       " 'stat': 'ok'}"
      ]
     },
     "execution_count": 15,
     "metadata": {},
     "output_type": "execute_result"
    }
   ],
   "source": [
    "r.json()"
   ]
  },
  {
   "cell_type": "code",
   "execution_count": 17,
   "metadata": {},
   "outputs": [],
   "source": [
    "_hex = list(r.json()['colors'].keys())\n",
    "names = [k['name'] for k in list(r.json()['colors'].values())]"
   ]
  },
  {
   "cell_type": "code",
   "execution_count": 18,
   "metadata": {},
   "outputs": [
    {
     "data": {
      "text/html": [
       "<div>\n",
       "<style scoped>\n",
       "    .dataframe tbody tr th:only-of-type {\n",
       "        vertical-align: middle;\n",
       "    }\n",
       "\n",
       "    .dataframe tbody tr th {\n",
       "        vertical-align: top;\n",
       "    }\n",
       "\n",
       "    .dataframe thead th {\n",
       "        text-align: right;\n",
       "    }\n",
       "</style>\n",
       "<table border=\"1\" class=\"dataframe\">\n",
       "  <thead>\n",
       "    <tr style=\"text-align: right;\">\n",
       "      <th></th>\n",
       "      <th>hex</th>\n",
       "      <th>name</th>\n",
       "    </tr>\n",
       "  </thead>\n",
       "  <tbody>\n",
       "    <tr>\n",
       "      <th>0</th>\n",
       "      <td>#fc89ac</td>\n",
       "      <td>Tickle Me Pink</td>\n",
       "    </tr>\n",
       "    <tr>\n",
       "      <th>1</th>\n",
       "      <td>#1f75fe</td>\n",
       "      <td>Blue</td>\n",
       "    </tr>\n",
       "    <tr>\n",
       "      <th>2</th>\n",
       "      <td>#a8e4a0</td>\n",
       "      <td>Granny Smith Apple</td>\n",
       "    </tr>\n",
       "    <tr>\n",
       "      <th>3</th>\n",
       "      <td>#fc74fd</td>\n",
       "      <td>Pink Flamingo</td>\n",
       "    </tr>\n",
       "    <tr>\n",
       "      <th>4</th>\n",
       "      <td>#7366bd</td>\n",
       "      <td>Blue Violet</td>\n",
       "    </tr>\n",
       "  </tbody>\n",
       "</table>\n",
       "</div>"
      ],
      "text/plain": [
       "       hex                name\n",
       "0  #fc89ac      Tickle Me Pink\n",
       "1  #1f75fe                Blue\n",
       "2  #a8e4a0  Granny Smith Apple\n",
       "3  #fc74fd       Pink Flamingo\n",
       "4  #7366bd         Blue Violet"
      ]
     },
     "execution_count": 18,
     "metadata": {},
     "output_type": "execute_result"
    }
   ],
   "source": [
    "# DataFrame of the results\n",
    "crayola= pd.DataFrame({'hex': _hex, 'name':names})\n",
    "\n",
    "crayola.head()"
   ]
  },
  {
   "cell_type": "markdown",
   "metadata": {},
   "source": [
    "### Red/Blue/Green\n",
    "The hex code is by design very dense information. Let's parse out the individual color components from the data. "
   ]
  },
  {
   "cell_type": "code",
   "execution_count": 19,
   "metadata": {
    "scrolled": true
   },
   "outputs": [],
   "source": [
    "def hex_to_rbg(_hexcode):\n",
    "    h = _hexcode.lstrip('#')\n",
    "    rbg = tuple(int(h[i:i+2], 16) for i in (0, 2 ,4))\n",
    "    return rbg"
   ]
  },
  {
   "cell_type": "code",
   "execution_count": 20,
   "metadata": {
    "scrolled": false
   },
   "outputs": [],
   "source": [
    "rbg = [hex_to_rbg(h) for h in crayola['hex'].tolist()]"
   ]
  },
  {
   "cell_type": "code",
   "execution_count": 21,
   "metadata": {},
   "outputs": [],
   "source": [
    "rbg = pd.DataFrame(rbg, columns=['red', 'green', 'blue'])\n",
    "crayola = pd.concat([crayola, rbg], axis=1)"
   ]
  },
  {
   "cell_type": "code",
   "execution_count": 22,
   "metadata": {},
   "outputs": [],
   "source": [
    "crayola['red'] = [hex_to_rbg(x)[0] for x in crayola['hex']]"
   ]
  },
  {
   "cell_type": "code",
   "execution_count": 23,
   "metadata": {},
   "outputs": [
    {
     "data": {
      "text/html": [
       "<div>\n",
       "<style scoped>\n",
       "    .dataframe tbody tr th:only-of-type {\n",
       "        vertical-align: middle;\n",
       "    }\n",
       "\n",
       "    .dataframe tbody tr th {\n",
       "        vertical-align: top;\n",
       "    }\n",
       "\n",
       "    .dataframe thead th {\n",
       "        text-align: right;\n",
       "    }\n",
       "</style>\n",
       "<table border=\"1\" class=\"dataframe\">\n",
       "  <thead>\n",
       "    <tr style=\"text-align: right;\">\n",
       "      <th></th>\n",
       "      <th>hex</th>\n",
       "      <th>name</th>\n",
       "      <th>red</th>\n",
       "      <th>green</th>\n",
       "      <th>blue</th>\n",
       "    </tr>\n",
       "  </thead>\n",
       "  <tbody>\n",
       "    <tr>\n",
       "      <th>0</th>\n",
       "      <td>#fc89ac</td>\n",
       "      <td>Tickle Me Pink</td>\n",
       "      <td>252</td>\n",
       "      <td>137</td>\n",
       "      <td>172</td>\n",
       "    </tr>\n",
       "    <tr>\n",
       "      <th>1</th>\n",
       "      <td>#1f75fe</td>\n",
       "      <td>Blue</td>\n",
       "      <td>31</td>\n",
       "      <td>117</td>\n",
       "      <td>254</td>\n",
       "    </tr>\n",
       "    <tr>\n",
       "      <th>2</th>\n",
       "      <td>#a8e4a0</td>\n",
       "      <td>Granny Smith Apple</td>\n",
       "      <td>168</td>\n",
       "      <td>228</td>\n",
       "      <td>160</td>\n",
       "    </tr>\n",
       "    <tr>\n",
       "      <th>3</th>\n",
       "      <td>#fc74fd</td>\n",
       "      <td>Pink Flamingo</td>\n",
       "      <td>252</td>\n",
       "      <td>116</td>\n",
       "      <td>253</td>\n",
       "    </tr>\n",
       "    <tr>\n",
       "      <th>4</th>\n",
       "      <td>#7366bd</td>\n",
       "      <td>Blue Violet</td>\n",
       "      <td>115</td>\n",
       "      <td>102</td>\n",
       "      <td>189</td>\n",
       "    </tr>\n",
       "  </tbody>\n",
       "</table>\n",
       "</div>"
      ],
      "text/plain": [
       "       hex                name  red  green  blue\n",
       "0  #fc89ac      Tickle Me Pink  252    137   172\n",
       "1  #1f75fe                Blue   31    117   254\n",
       "2  #a8e4a0  Granny Smith Apple  168    228   160\n",
       "3  #fc74fd       Pink Flamingo  252    116   253\n",
       "4  #7366bd         Blue Violet  115    102   189"
      ]
     },
     "execution_count": 23,
     "metadata": {},
     "output_type": "execute_result"
    }
   ],
   "source": [
    "crayola.head()"
   ]
  },
  {
   "cell_type": "code",
   "execution_count": 23,
   "metadata": {},
   "outputs": [],
   "source": [
    "crayola.head()\n",
    "\n",
    "crayola.to_csv('../data/crayola_colors.csv', index=False)"
   ]
  },
  {
   "cell_type": "code",
   "execution_count": 24,
   "metadata": {
    "scrolled": true
   },
   "outputs": [
    {
     "data": {
      "text/html": [
       "        <script type=\"text/javascript\">\n",
       "        window.PlotlyConfig = {MathJaxConfig: 'local'};\n",
       "        if (window.MathJax) {MathJax.Hub.Config({SVG: {font: \"STIX-Web\"}});}\n",
       "        if (typeof require !== 'undefined') {\n",
       "        require.undef(\"plotly\");\n",
       "        requirejs.config({\n",
       "            paths: {\n",
       "                'plotly': ['https://cdn.plot.ly/plotly-latest.min']\n",
       "            }\n",
       "        });\n",
       "        require(['plotly'], function(Plotly) {\n",
       "            window._Plotly = Plotly;\n",
       "        });\n",
       "        }\n",
       "        </script>\n",
       "        "
      ]
     },
     "metadata": {},
     "output_type": "display_data"
    }
   ],
   "source": [
    "import plotly.offline as py\n",
    "import plotly.graph_objs as go\n",
    "\n",
    "py.init_notebook_mode(connected=True)"
   ]
  },
  {
   "cell_type": "code",
   "execution_count": 25,
   "metadata": {},
   "outputs": [],
   "source": [
    "trace = go.Scatter3d(\n",
    "    x = crayola['red'],\n",
    "    y = crayola['green'],\n",
    "    z = crayola['blue'],\n",
    "    mode = 'markers',\n",
    "    marker = dict(\n",
    "        color = crayola['hex'].tolist(),\n",
    "        size = 5,\n",
    "        symbol = 'circle',\n",
    "        opacity = 1))\n",
    "\n",
    "layout = go.Layout(margin=dict(l=0, r=0, b=0, t=0))"
   ]
  },
  {
   "cell_type": "code",
   "execution_count": 27,
   "metadata": {
    "scrolled": false
   },
   "outputs": [
    {
     "data": {
      "application/vnd.plotly.v1+json": {
       "config": {
        "linkText": "Export to plot.ly",
        "plotlyServerURL": "https://plot.ly",
        "showLink": false
       },
       "data": [
        {
         "marker": {
          "color": [
           "#fc89ac",
           "#1f75fe",
           "#a8e4a0",
           "#fc74fd",
           "#7366bd",
           "#18a7b5",
           "#1164b4",
           "#b2ec5d",
           "#58427c",
           "#bf4f51",
           "#5d76cb",
           "#c5e384",
           "#8fd400",
           "#4a646c",
           "#ffbcd9",
           "#ff7f49",
           "#fefe22",
           "#bc5d58",
           "#9fe2bf",
           "#000000",
           "#414a4c",
           "#7851a9",
           "#ace5ee",
           "#a2add0",
           "#dd9475",
           "#ffffff",
           "#efdecd",
           "#bab86c",
           "#1974d2",
           "#b4674d",
           "#ebc7df",
           "#ff9baa",
           "#87a96b",
           "#71bc78",
           "#8e4585",
           "#fae7b5",
           "#979aaa",
           "#aaf0d1",
           "#c5d0e6",
           "#fd5e53",
           "#80daeb",
           "#2e5894",
           "#ff48d0",
           "#dd4492",
           "#eceabe",
           "#1a4876",
           "#9aceeb",
           "#f8d568",
           "#e7c697",
           "#1cac78",
           "#9c7c38",
           "#9f8170",
           "#a57164",
           "#ff6e4a",
           "#3bb08f",
           "#fff44f",
           "#ff43a4",
           "#1cd3a2",
           "#cda4de",
           "#ffa343",
           "#efcdb8",
           "#a5694f",
           "#8d4e85",
           "#ff7538",
           "#cb4154",
           "#17806d",
           "#ffa089",
           "#cd9575",
           "#cdc5c2",
           "#85754e",
           "#6699cc",
           "#ea7e5d",
           "#c46210",
           "#fdbcb4",
           "#d68a59",
           "#ffaacc",
           "#45cea2",
           "#ef98aa",
           "#6dae81",
           "#ffa474",
           "#324ab2",
           "#fddde6",
           "#ffcf48",
           "#c54b8c",
           "#0d98ba",
           "#f75394",
           "#ff496c",
           "#1fcecb",
           "#fb7efd",
           "#fcd975",
           "#9d81ba",
           "#ffff99",
           "#fce883",
           "#0a7e8c",
           "#6e5160",
           "#ff8243",
           "#c8385a",
           "#ceff1d",
           "#319177",
           "#ee204d",
           "#ff5349",
           "#e3256b",
           "#8f509d",
           "#ffff66",
           "#faa76c",
           "#ff1dce",
           "#76ff7a",
           "#f664af",
           "#e6a8d7",
           "#fcb4d5",
           "#78dbe2",
           "#c0448f",
           "#926eae",
           "#158078",
           "#ffcfab",
           "#95918c",
           "#30ba8f",
           "#f0e891",
           "#714b23",
           "#deaa88",
           "#0081ab",
           "#77dde7",
           "#f78fa7",
           "#757575",
           "#ffbd88",
           "#1ca9c9",
           "#2b6cc4",
           "#a2a2d0",
           "#cc6666",
           "#7442c8",
           "#cd4a4c",
           "#ffae42",
           "#ca3767",
           "#ff2b2b",
           "#de5d83",
           "#fc2847",
           "#fc6c85",
           "#fddb6d",
           "#dbd7d2",
           "#d98695",
           "#fd7c6e",
           "#9c2542",
           "#edd19c",
           "#c364c5",
           "#1dacd6",
           "#fe4eda",
           "#fdd9b5",
           "#8a795d",
           "#b0b7c6"
          ],
          "opacity": 1,
          "size": 5,
          "symbol": "circle"
         },
         "mode": "markers",
         "type": "scatter3d",
         "uid": "e9c5d38d-566a-4488-a957-faa6769f31bd",
         "x": [
          252,
          31,
          168,
          252,
          115,
          24,
          17,
          178,
          88,
          191,
          93,
          197,
          143,
          74,
          255,
          255,
          254,
          188,
          159,
          0,
          65,
          120,
          172,
          162,
          221,
          255,
          239,
          186,
          25,
          180,
          235,
          255,
          135,
          113,
          142,
          250,
          151,
          170,
          197,
          253,
          128,
          46,
          255,
          221,
          236,
          26,
          154,
          248,
          231,
          28,
          156,
          159,
          165,
          255,
          59,
          255,
          255,
          28,
          205,
          255,
          239,
          165,
          141,
          255,
          203,
          23,
          255,
          205,
          205,
          133,
          102,
          234,
          196,
          253,
          214,
          255,
          69,
          239,
          109,
          255,
          50,
          253,
          255,
          197,
          13,
          247,
          255,
          31,
          251,
          252,
          157,
          255,
          252,
          10,
          110,
          255,
          200,
          206,
          49,
          238,
          255,
          227,
          143,
          255,
          250,
          255,
          118,
          246,
          230,
          252,
          120,
          192,
          146,
          21,
          255,
          149,
          48,
          240,
          113,
          222,
          0,
          119,
          247,
          117,
          255,
          28,
          43,
          162,
          204,
          116,
          205,
          255,
          202,
          255,
          222,
          252,
          252,
          253,
          219,
          217,
          253,
          156,
          237,
          195,
          29,
          254,
          253,
          138,
          176
         ],
         "y": [
          137,
          117,
          228,
          116,
          102,
          167,
          100,
          236,
          66,
          79,
          118,
          227,
          212,
          100,
          188,
          127,
          254,
          93,
          226,
          0,
          74,
          81,
          229,
          173,
          148,
          255,
          222,
          184,
          116,
          103,
          199,
          155,
          169,
          188,
          69,
          231,
          154,
          240,
          208,
          94,
          218,
          88,
          72,
          68,
          234,
          72,
          206,
          213,
          198,
          172,
          124,
          129,
          113,
          110,
          176,
          244,
          67,
          211,
          164,
          163,
          205,
          105,
          78,
          117,
          65,
          128,
          160,
          149,
          197,
          117,
          153,
          126,
          98,
          188,
          138,
          170,
          206,
          152,
          174,
          164,
          74,
          221,
          207,
          75,
          152,
          83,
          73,
          206,
          126,
          217,
          129,
          255,
          232,
          126,
          81,
          130,
          56,
          255,
          145,
          32,
          83,
          37,
          80,
          255,
          167,
          29,
          255,
          100,
          168,
          180,
          219,
          68,
          110,
          128,
          207,
          145,
          186,
          232,
          75,
          170,
          129,
          221,
          143,
          117,
          189,
          169,
          108,
          162,
          102,
          66,
          74,
          174,
          55,
          43,
          93,
          40,
          108,
          219,
          215,
          134,
          124,
          37,
          209,
          100,
          172,
          78,
          217,
          121,
          183
         ],
         "z": [
          172,
          254,
          160,
          253,
          189,
          181,
          180,
          93,
          124,
          81,
          203,
          132,
          0,
          108,
          217,
          73,
          34,
          88,
          191,
          0,
          76,
          169,
          238,
          208,
          117,
          255,
          205,
          108,
          210,
          77,
          223,
          170,
          107,
          120,
          133,
          181,
          170,
          209,
          230,
          83,
          235,
          148,
          208,
          146,
          190,
          118,
          235,
          104,
          151,
          120,
          56,
          112,
          100,
          74,
          143,
          79,
          164,
          162,
          222,
          67,
          184,
          79,
          133,
          56,
          84,
          109,
          137,
          117,
          194,
          78,
          204,
          93,
          16,
          180,
          89,
          204,
          162,
          170,
          129,
          116,
          178,
          230,
          72,
          140,
          186,
          148,
          108,
          203,
          253,
          117,
          186,
          153,
          131,
          140,
          96,
          67,
          90,
          29,
          119,
          77,
          73,
          107,
          157,
          102,
          108,
          206,
          122,
          175,
          215,
          213,
          226,
          143,
          174,
          120,
          171,
          140,
          143,
          145,
          35,
          136,
          171,
          231,
          167,
          117,
          136,
          201,
          196,
          208,
          102,
          200,
          76,
          66,
          103,
          43,
          131,
          71,
          133,
          109,
          210,
          149,
          110,
          66,
          156,
          197,
          214,
          218,
          181,
          93,
          198
         ]
        }
       ],
       "layout": {
        "margin": {
         "b": 0,
         "l": 0,
         "r": 0,
         "t": 0
        }
       }
      },
      "text/html": [
       "<div>\n",
       "        \n",
       "        \n",
       "            <div id=\"a07ac1fc-4291-4767-9942-8a604e57195b\" class=\"plotly-graph-div\" style=\"height:525px; width:100%;\"></div>\n",
       "            <script type=\"text/javascript\">\n",
       "                require([\"plotly\"], function(Plotly) {\n",
       "                    window.PLOTLYENV=window.PLOTLYENV || {};\n",
       "                    window.PLOTLYENV.BASE_URL='https://plot.ly';\n",
       "                    \n",
       "                if (document.getElementById(\"a07ac1fc-4291-4767-9942-8a604e57195b\")) {\n",
       "                    Plotly.newPlot(\n",
       "                        'a07ac1fc-4291-4767-9942-8a604e57195b',\n",
       "                        [{\"marker\": {\"color\": [\"#fc89ac\", \"#1f75fe\", \"#a8e4a0\", \"#fc74fd\", \"#7366bd\", \"#18a7b5\", \"#1164b4\", \"#b2ec5d\", \"#58427c\", \"#bf4f51\", \"#5d76cb\", \"#c5e384\", \"#8fd400\", \"#4a646c\", \"#ffbcd9\", \"#ff7f49\", \"#fefe22\", \"#bc5d58\", \"#9fe2bf\", \"#000000\", \"#414a4c\", \"#7851a9\", \"#ace5ee\", \"#a2add0\", \"#dd9475\", \"#ffffff\", \"#efdecd\", \"#bab86c\", \"#1974d2\", \"#b4674d\", \"#ebc7df\", \"#ff9baa\", \"#87a96b\", \"#71bc78\", \"#8e4585\", \"#fae7b5\", \"#979aaa\", \"#aaf0d1\", \"#c5d0e6\", \"#fd5e53\", \"#80daeb\", \"#2e5894\", \"#ff48d0\", \"#dd4492\", \"#eceabe\", \"#1a4876\", \"#9aceeb\", \"#f8d568\", \"#e7c697\", \"#1cac78\", \"#9c7c38\", \"#9f8170\", \"#a57164\", \"#ff6e4a\", \"#3bb08f\", \"#fff44f\", \"#ff43a4\", \"#1cd3a2\", \"#cda4de\", \"#ffa343\", \"#efcdb8\", \"#a5694f\", \"#8d4e85\", \"#ff7538\", \"#cb4154\", \"#17806d\", \"#ffa089\", \"#cd9575\", \"#cdc5c2\", \"#85754e\", \"#6699cc\", \"#ea7e5d\", \"#c46210\", \"#fdbcb4\", \"#d68a59\", \"#ffaacc\", \"#45cea2\", \"#ef98aa\", \"#6dae81\", \"#ffa474\", \"#324ab2\", \"#fddde6\", \"#ffcf48\", \"#c54b8c\", \"#0d98ba\", \"#f75394\", \"#ff496c\", \"#1fcecb\", \"#fb7efd\", \"#fcd975\", \"#9d81ba\", \"#ffff99\", \"#fce883\", \"#0a7e8c\", \"#6e5160\", \"#ff8243\", \"#c8385a\", \"#ceff1d\", \"#319177\", \"#ee204d\", \"#ff5349\", \"#e3256b\", \"#8f509d\", \"#ffff66\", \"#faa76c\", \"#ff1dce\", \"#76ff7a\", \"#f664af\", \"#e6a8d7\", \"#fcb4d5\", \"#78dbe2\", \"#c0448f\", \"#926eae\", \"#158078\", \"#ffcfab\", \"#95918c\", \"#30ba8f\", \"#f0e891\", \"#714b23\", \"#deaa88\", \"#0081ab\", \"#77dde7\", \"#f78fa7\", \"#757575\", \"#ffbd88\", \"#1ca9c9\", \"#2b6cc4\", \"#a2a2d0\", \"#cc6666\", \"#7442c8\", \"#cd4a4c\", \"#ffae42\", \"#ca3767\", \"#ff2b2b\", \"#de5d83\", \"#fc2847\", \"#fc6c85\", \"#fddb6d\", \"#dbd7d2\", \"#d98695\", \"#fd7c6e\", \"#9c2542\", \"#edd19c\", \"#c364c5\", \"#1dacd6\", \"#fe4eda\", \"#fdd9b5\", \"#8a795d\", \"#b0b7c6\"], \"opacity\": 1, \"size\": 5, \"symbol\": \"circle\"}, \"mode\": \"markers\", \"type\": \"scatter3d\", \"uid\": \"e9c5d38d-566a-4488-a957-faa6769f31bd\", \"x\": [252, 31, 168, 252, 115, 24, 17, 178, 88, 191, 93, 197, 143, 74, 255, 255, 254, 188, 159, 0, 65, 120, 172, 162, 221, 255, 239, 186, 25, 180, 235, 255, 135, 113, 142, 250, 151, 170, 197, 253, 128, 46, 255, 221, 236, 26, 154, 248, 231, 28, 156, 159, 165, 255, 59, 255, 255, 28, 205, 255, 239, 165, 141, 255, 203, 23, 255, 205, 205, 133, 102, 234, 196, 253, 214, 255, 69, 239, 109, 255, 50, 253, 255, 197, 13, 247, 255, 31, 251, 252, 157, 255, 252, 10, 110, 255, 200, 206, 49, 238, 255, 227, 143, 255, 250, 255, 118, 246, 230, 252, 120, 192, 146, 21, 255, 149, 48, 240, 113, 222, 0, 119, 247, 117, 255, 28, 43, 162, 204, 116, 205, 255, 202, 255, 222, 252, 252, 253, 219, 217, 253, 156, 237, 195, 29, 254, 253, 138, 176], \"y\": [137, 117, 228, 116, 102, 167, 100, 236, 66, 79, 118, 227, 212, 100, 188, 127, 254, 93, 226, 0, 74, 81, 229, 173, 148, 255, 222, 184, 116, 103, 199, 155, 169, 188, 69, 231, 154, 240, 208, 94, 218, 88, 72, 68, 234, 72, 206, 213, 198, 172, 124, 129, 113, 110, 176, 244, 67, 211, 164, 163, 205, 105, 78, 117, 65, 128, 160, 149, 197, 117, 153, 126, 98, 188, 138, 170, 206, 152, 174, 164, 74, 221, 207, 75, 152, 83, 73, 206, 126, 217, 129, 255, 232, 126, 81, 130, 56, 255, 145, 32, 83, 37, 80, 255, 167, 29, 255, 100, 168, 180, 219, 68, 110, 128, 207, 145, 186, 232, 75, 170, 129, 221, 143, 117, 189, 169, 108, 162, 102, 66, 74, 174, 55, 43, 93, 40, 108, 219, 215, 134, 124, 37, 209, 100, 172, 78, 217, 121, 183], \"z\": [172, 254, 160, 253, 189, 181, 180, 93, 124, 81, 203, 132, 0, 108, 217, 73, 34, 88, 191, 0, 76, 169, 238, 208, 117, 255, 205, 108, 210, 77, 223, 170, 107, 120, 133, 181, 170, 209, 230, 83, 235, 148, 208, 146, 190, 118, 235, 104, 151, 120, 56, 112, 100, 74, 143, 79, 164, 162, 222, 67, 184, 79, 133, 56, 84, 109, 137, 117, 194, 78, 204, 93, 16, 180, 89, 204, 162, 170, 129, 116, 178, 230, 72, 140, 186, 148, 108, 203, 253, 117, 186, 153, 131, 140, 96, 67, 90, 29, 119, 77, 73, 107, 157, 102, 108, 206, 122, 175, 215, 213, 226, 143, 174, 120, 171, 140, 143, 145, 35, 136, 171, 231, 167, 117, 136, 201, 196, 208, 102, 200, 76, 66, 103, 43, 131, 71, 133, 109, 210, 149, 110, 66, 156, 197, 214, 218, 181, 93, 198]}],\n",
       "                        {\"margin\": {\"b\": 0, \"l\": 0, \"r\": 0, \"t\": 0}},\n",
       "                        {\"showLink\": false, \"linkText\": \"Export to plot.ly\", \"plotlyServerURL\": \"https://plot.ly\", \"responsive\": true}\n",
       "                    ).then(function(){\n",
       "                            \n",
       "var gd = document.getElementById('a07ac1fc-4291-4767-9942-8a604e57195b');\n",
       "var x = new MutationObserver(function (mutations, observer) {{\n",
       "        var display = window.getComputedStyle(gd).display;\n",
       "        if (!display || display === 'none') {{\n",
       "            console.log([gd, 'removed!']);\n",
       "            Plotly.purge(gd);\n",
       "            observer.disconnect();\n",
       "        }}\n",
       "}});\n",
       "\n",
       "// Listen for the removal of the full notebook cells\n",
       "var notebookContainer = gd.closest('#notebook-container');\n",
       "if (notebookContainer) {{\n",
       "    x.observe(notebookContainer, {childList: true});\n",
       "}}\n",
       "\n",
       "// Listen for the clearing of the current output cell\n",
       "var outputEl = gd.closest('.output');\n",
       "if (outputEl) {{\n",
       "    x.observe(outputEl, {childList: true});\n",
       "}}\n",
       "\n",
       "                        })\n",
       "                };\n",
       "                });\n",
       "            </script>\n",
       "        </div>"
      ]
     },
     "metadata": {},
     "output_type": "display_data"
    }
   ],
   "source": [
    "fig = go.Figure(data=[trace],layout=layout)\n",
    "py.iplot(fig, filename='Crayola-Scatter')"
   ]
  },
  {
   "cell_type": "markdown",
   "metadata": {},
   "source": [
    "### Your Turn!\n",
    "*30 -40 minutes*\n",
    "\n",
    "Build out our training dataset by studying the API documentation on the Cooper Hewit Website. We need a dataset with the museum curent objects on display (only 100 items), the images associated with those items, and the color(s) of those items.\n",
    "\n",
    "* Store the the name of the objects and other meta data in a csv called `current_collection.csv`\n",
    "  * Remember to use a python dictionary to structure the api parameters like we did in the first exercise. This will help you structure the url automatically.\n",
    "* Place the images in a name folder in the day_5 folder named `collection_images` and add the file name of the image to the previous csv\n",
    "  * You can used the request method `content` to access the file to write it to a file.\n",
    "  * Raw Example: `open('image.jpg', 'wb').write(request.content)`\n",
    "* Grab the color information and place it another csv `current_collection_colors.csv`\n",
    "\n",
    "The API documentation is available [here](https://collection.cooperhewitt.org/api/methods/). You will want to use the follwing end points: \n",
    "1. [`getOnDisplay`](https://collection.cooperhewitt.org/api/methods/cooperhewitt.objects.getOnDisplay)\n",
    "2. [`getImages`](https://collection.cooperhewitt.org/api/methods/cooperhewitt.objects.getImages)\n",
    "3. [`getColors`](https://collection.cooperhewitt.org/api/methods/cooperhewitt.objects.getColors)"
   ]
  },
  {
   "cell_type": "code",
   "execution_count": 28,
   "metadata": {},
   "outputs": [],
   "source": [
    "api = 'https://api.collection.cooperhewitt.org/rest/?'\n",
    "\n",
    "def on_display(token,n=100):\n",
    "    payload = {'access_token': token,\n",
    "              'method': 'cooperhewitt.objects.getOnDisplay'}\n",
    "    \n",
    "    r = requests.get(api, params=payload)\n",
    "    \n",
    "    objs = pd.DataFrame.from_records(r.json()['objects'])\n",
    "    \n",
    "    return objs\n",
    "\n",
    "objects = on_display(token,n=100)"
   ]
  },
  {
   "cell_type": "code",
   "execution_count": 29,
   "metadata": {},
   "outputs": [
    {
     "data": {
      "text/html": [
       "<div>\n",
       "<style scoped>\n",
       "    .dataframe tbody tr th:only-of-type {\n",
       "        vertical-align: middle;\n",
       "    }\n",
       "\n",
       "    .dataframe tbody tr th {\n",
       "        vertical-align: top;\n",
       "    }\n",
       "\n",
       "    .dataframe thead th {\n",
       "        text-align: right;\n",
       "    }\n",
       "</style>\n",
       "<table border=\"1\" class=\"dataframe\">\n",
       "  <thead>\n",
       "    <tr style=\"text-align: right;\">\n",
       "      <th></th>\n",
       "      <th>accession_number</th>\n",
       "      <th>creditline</th>\n",
       "      <th>date</th>\n",
       "      <th>decade</th>\n",
       "      <th>department_id</th>\n",
       "      <th>description</th>\n",
       "      <th>dimensions</th>\n",
       "      <th>dimensions_raw</th>\n",
       "      <th>gallery_text</th>\n",
       "      <th>has_no_known_copyright</th>\n",
       "      <th>...</th>\n",
       "      <th>title_raw</th>\n",
       "      <th>tms:id</th>\n",
       "      <th>type_id</th>\n",
       "      <th>url</th>\n",
       "      <th>videos</th>\n",
       "      <th>woe:country</th>\n",
       "      <th>woe:country_id</th>\n",
       "      <th>year_acquired</th>\n",
       "      <th>year_end</th>\n",
       "      <th>year_start</th>\n",
       "    </tr>\n",
       "  </thead>\n",
       "  <tbody>\n",
       "    <tr>\n",
       "      <th>0</th>\n",
       "      <td>1921-6-402</td>\n",
       "      <td>None</td>\n",
       "      <td>None</td>\n",
       "      <td>None</td>\n",
       "      <td>35347493</td>\n",
       "      <td>None</td>\n",
       "      <td>None</td>\n",
       "      <td>None</td>\n",
       "      <td>None</td>\n",
       "      <td>1</td>\n",
       "      <td>...</td>\n",
       "      <td>Essai de papilloneries humaines (Ideas for Sce...</td>\n",
       "      <td>48</td>\n",
       "      <td>35256543</td>\n",
       "      <td>https://collection.cooperhewitt.org/objects/18...</td>\n",
       "      <td>None</td>\n",
       "      <td>None</td>\n",
       "      <td>None</td>\n",
       "      <td>None</td>\n",
       "      <td>None</td>\n",
       "      <td>None</td>\n",
       "    </tr>\n",
       "    <tr>\n",
       "      <th>1</th>\n",
       "      <td>1906-21-245</td>\n",
       "      <td>None</td>\n",
       "      <td>None</td>\n",
       "      <td>None</td>\n",
       "      <td>35347493</td>\n",
       "      <td>None</td>\n",
       "      <td>None</td>\n",
       "      <td>None</td>\n",
       "      <td>None</td>\n",
       "      <td>1</td>\n",
       "      <td>...</td>\n",
       "      <td>Design for Embroidery, Corner of Gentleman's W...</td>\n",
       "      <td>14463</td>\n",
       "      <td>35237093</td>\n",
       "      <td>https://collection.cooperhewitt.org/objects/18...</td>\n",
       "      <td>None</td>\n",
       "      <td>23424819</td>\n",
       "      <td>23424819</td>\n",
       "      <td>None</td>\n",
       "      <td>None</td>\n",
       "      <td>None</td>\n",
       "    </tr>\n",
       "    <tr>\n",
       "      <th>2</th>\n",
       "      <td>1909-13-100</td>\n",
       "      <td>None</td>\n",
       "      <td>None</td>\n",
       "      <td>None</td>\n",
       "      <td>35347493</td>\n",
       "      <td>None</td>\n",
       "      <td>None</td>\n",
       "      <td>None</td>\n",
       "      <td>None</td>\n",
       "      <td>1</td>\n",
       "      <td>...</td>\n",
       "      <td>Design for Woven Paisley</td>\n",
       "      <td>16906</td>\n",
       "      <td>35237093</td>\n",
       "      <td>https://collection.cooperhewitt.org/objects/18...</td>\n",
       "      <td>None</td>\n",
       "      <td>None</td>\n",
       "      <td>None</td>\n",
       "      <td>None</td>\n",
       "      <td>None</td>\n",
       "      <td>None</td>\n",
       "    </tr>\n",
       "    <tr>\n",
       "      <th>3</th>\n",
       "      <td>1909-13-102</td>\n",
       "      <td>None</td>\n",
       "      <td>None</td>\n",
       "      <td>None</td>\n",
       "      <td>35347493</td>\n",
       "      <td>None</td>\n",
       "      <td>None</td>\n",
       "      <td>None</td>\n",
       "      <td>None</td>\n",
       "      <td>1</td>\n",
       "      <td>...</td>\n",
       "      <td>Designs for Woven Paisley</td>\n",
       "      <td>16908</td>\n",
       "      <td>35237093</td>\n",
       "      <td>https://collection.cooperhewitt.org/objects/18...</td>\n",
       "      <td>None</td>\n",
       "      <td>None</td>\n",
       "      <td>None</td>\n",
       "      <td>None</td>\n",
       "      <td>None</td>\n",
       "      <td>None</td>\n",
       "    </tr>\n",
       "    <tr>\n",
       "      <th>4</th>\n",
       "      <td>1909-13-103</td>\n",
       "      <td>None</td>\n",
       "      <td>None</td>\n",
       "      <td>None</td>\n",
       "      <td>35347493</td>\n",
       "      <td>None</td>\n",
       "      <td>None</td>\n",
       "      <td>None</td>\n",
       "      <td>None</td>\n",
       "      <td>1</td>\n",
       "      <td>...</td>\n",
       "      <td>Design for Woven Paisley</td>\n",
       "      <td>16909</td>\n",
       "      <td>35237093</td>\n",
       "      <td>https://collection.cooperhewitt.org/objects/18...</td>\n",
       "      <td>None</td>\n",
       "      <td>None</td>\n",
       "      <td>None</td>\n",
       "      <td>None</td>\n",
       "      <td>None</td>\n",
       "      <td>None</td>\n",
       "    </tr>\n",
       "  </tbody>\n",
       "</table>\n",
       "<p>5 rows × 33 columns</p>\n",
       "</div>"
      ],
      "text/plain": [
       "  accession_number creditline  date decade department_id description  \\\n",
       "0       1921-6-402       None  None   None      35347493        None   \n",
       "1      1906-21-245       None  None   None      35347493        None   \n",
       "2      1909-13-100       None  None   None      35347493        None   \n",
       "3      1909-13-102       None  None   None      35347493        None   \n",
       "4      1909-13-103       None  None   None      35347493        None   \n",
       "\n",
       "  dimensions dimensions_raw gallery_text has_no_known_copyright  ...  \\\n",
       "0       None           None         None                      1  ...   \n",
       "1       None           None         None                      1  ...   \n",
       "2       None           None         None                      1  ...   \n",
       "3       None           None         None                      1  ...   \n",
       "4       None           None         None                      1  ...   \n",
       "\n",
       "                                           title_raw tms:id   type_id  \\\n",
       "0  Essai de papilloneries humaines (Ideas for Sce...     48  35256543   \n",
       "1  Design for Embroidery, Corner of Gentleman's W...  14463  35237093   \n",
       "2                           Design for Woven Paisley  16906  35237093   \n",
       "3                          Designs for Woven Paisley  16908  35237093   \n",
       "4                           Design for Woven Paisley  16909  35237093   \n",
       "\n",
       "                                                 url videos woe:country  \\\n",
       "0  https://collection.cooperhewitt.org/objects/18...   None        None   \n",
       "1  https://collection.cooperhewitt.org/objects/18...   None    23424819   \n",
       "2  https://collection.cooperhewitt.org/objects/18...   None        None   \n",
       "3  https://collection.cooperhewitt.org/objects/18...   None        None   \n",
       "4  https://collection.cooperhewitt.org/objects/18...   None        None   \n",
       "\n",
       "  woe:country_id year_acquired year_end year_start  \n",
       "0           None          None     None       None  \n",
       "1       23424819          None     None       None  \n",
       "2           None          None     None       None  \n",
       "3           None          None     None       None  \n",
       "4           None          None     None       None  \n",
       "\n",
       "[5 rows x 33 columns]"
      ]
     },
     "execution_count": 29,
     "metadata": {},
     "output_type": "execute_result"
    }
   ],
   "source": [
    "objects.head()"
   ]
  },
  {
   "cell_type": "code",
   "execution_count": 30,
   "metadata": {},
   "outputs": [
    {
     "data": {
      "text/plain": [
       "['accession_number',\n",
       " 'creditline',\n",
       " 'date',\n",
       " 'decade',\n",
       " 'department_id',\n",
       " 'description',\n",
       " 'dimensions',\n",
       " 'dimensions_raw',\n",
       " 'gallery_text',\n",
       " 'has_no_known_copyright',\n",
       " 'id',\n",
       " 'inscribed',\n",
       " 'is_loan_object',\n",
       " 'justification',\n",
       " 'label_text',\n",
       " 'markings',\n",
       " 'media_id',\n",
       " 'medium',\n",
       " 'on_display',\n",
       " 'period_id',\n",
       " 'provenance',\n",
       " 'signed',\n",
       " 'title',\n",
       " 'title_raw',\n",
       " 'tms:id',\n",
       " 'type_id',\n",
       " 'url',\n",
       " 'videos',\n",
       " 'woe:country',\n",
       " 'woe:country_id',\n",
       " 'year_acquired',\n",
       " 'year_end',\n",
       " 'year_start']"
      ]
     },
     "execution_count": 30,
     "metadata": {},
     "output_type": "execute_result"
    }
   ],
   "source": [
    "list(objects)"
   ]
  },
  {
   "cell_type": "code",
   "execution_count": 31,
   "metadata": {},
   "outputs": [
    {
     "name": "stdout",
     "output_type": "stream",
     "text": [
      "18065649\n"
     ]
    }
   ],
   "source": [
    "test_id = objects['id'][0]\n",
    "print(test_id)"
   ]
  },
  {
   "cell_type": "code",
   "execution_count": 32,
   "metadata": {},
   "outputs": [
    {
     "ename": "NameError",
     "evalue": "name 'os' is not defined",
     "output_type": "error",
     "traceback": [
      "\u001b[0;31m---------------------------------------------------------------------------\u001b[0m",
      "\u001b[0;31mNameError\u001b[0m                                 Traceback (most recent call last)",
      "\u001b[0;32m<ipython-input-32-a8a3235049a7>\u001b[0m in \u001b[0;36m<module>\u001b[0;34m\u001b[0m\n\u001b[1;32m     11\u001b[0m     \u001b[0mimage\u001b[0m \u001b[0;34m=\u001b[0m \u001b[0mrequests\u001b[0m\u001b[0;34m.\u001b[0m\u001b[0mget\u001b[0m\u001b[0;34m(\u001b[0m\u001b[0mimage_url\u001b[0m\u001b[0;34m)\u001b[0m\u001b[0;34m\u001b[0m\u001b[0;34m\u001b[0m\u001b[0m\n\u001b[1;32m     12\u001b[0m \u001b[0;34m\u001b[0m\u001b[0m\n\u001b[0;32m---> 13\u001b[0;31m     \u001b[0mout\u001b[0m \u001b[0;34m=\u001b[0m \u001b[0mos\u001b[0m\u001b[0;34m.\u001b[0m\u001b[0mpath\u001b[0m\u001b[0;34m.\u001b[0m\u001b[0mjoin\u001b[0m\u001b[0;34m(\u001b[0m\u001b[0;34m'../collection_images/'\u001b[0m\u001b[0;34m,\u001b[0m \u001b[0;34m\"%s.jpg\"\u001b[0m \u001b[0;34m%\u001b[0m \u001b[0mobj\u001b[0m\u001b[0;34m)\u001b[0m\u001b[0;34m\u001b[0m\u001b[0;34m\u001b[0m\u001b[0m\n\u001b[0m\u001b[1;32m     14\u001b[0m \u001b[0;34m\u001b[0m\u001b[0m\n\u001b[1;32m     15\u001b[0m     \u001b[0;32mwith\u001b[0m \u001b[0mopen\u001b[0m\u001b[0;34m(\u001b[0m\u001b[0mout\u001b[0m\u001b[0;34m,\u001b[0m \u001b[0;34m'wb'\u001b[0m\u001b[0;34m)\u001b[0m \u001b[0;32mas\u001b[0m \u001b[0mimg\u001b[0m\u001b[0;34m:\u001b[0m\u001b[0;34m\u001b[0m\u001b[0;34m\u001b[0m\u001b[0m\n",
      "\u001b[0;31mNameError\u001b[0m: name 'os' is not defined"
     ]
    }
   ],
   "source": [
    "for obj in objects['id']:\n",
    "\n",
    "    payload = {'method': 'cooperhewitt.objects.getImages',\n",
    "            'access_token': token,\n",
    "            'object_id': obj}\n",
    "\n",
    "    r = requests.get(api, params=payload)\n",
    "\n",
    "    image_url = r.json()['images'][0]['b']['url']\n",
    "    \n",
    "    image = requests.get(image_url)\n",
    "    \n",
    "    out = os.path.join('../collection_images/', \"%s.jpg\" % obj)\n",
    "        \n",
    "    with open(out, 'wb') as img:\n",
    "        img.write(image.content)"
   ]
  },
  {
   "cell_type": "code",
   "execution_count": 33,
   "metadata": {},
   "outputs": [
    {
     "name": "stdout",
     "output_type": "stream",
     "text": [
      "\n"
     ]
    }
   ],
   "source": [
    "print()"
   ]
  },
  {
   "cell_type": "code",
   "execution_count": 34,
   "metadata": {},
   "outputs": [
    {
     "data": {
      "text/plain": [
       "'a'"
      ]
     },
     "execution_count": 34,
     "metadata": {},
     "output_type": "execute_result"
    }
   ],
   "source": [
    "a = ['a']\n",
    "a[0]"
   ]
  },
  {
   "cell_type": "code",
   "execution_count": 35,
   "metadata": {},
   "outputs": [
    {
     "name": "stdout",
     "output_type": "stream",
     "text": [
      "dict_keys(['object_id', 'count_images', 'images', 'stat'])\n"
     ]
    }
   ],
   "source": [
    "print(r.json().keys())"
   ]
  },
  {
   "cell_type": "code",
   "execution_count": 36,
   "metadata": {},
   "outputs": [],
   "source": [
    "import os\n",
    "\n",
    "def grab_images(object_ids, token, output_path):\n",
    "    \n",
    "    for i in object_ids:\n",
    "        \n",
    "        payload = {'method': 'cooperhewitt.objects.getImages',\n",
    "                  'access_token': token,\n",
    "                  'object_id': i}\n",
    "        \n",
    "        r = requests.get(api, params=payload)\n",
    "        \n",
    "        image_url = r.json()['images'][0]['b']['url']\n",
    "        \n",
    "        image = requests.get(image_url)\n",
    "        out = os.path.join(output_path, \"%s.jpg\" % i)\n",
    "        \n",
    "        with open(out, 'wb') as img:\n",
    "            img.write(image.content)"
   ]
  },
  {
   "cell_type": "code",
   "execution_count": 37,
   "metadata": {},
   "outputs": [
    {
     "ename": "FileNotFoundError",
     "evalue": "[Errno 2] No such file or directory: '../collection_images/18065649.jpg'",
     "output_type": "error",
     "traceback": [
      "\u001b[0;31m---------------------------------------------------------------------------\u001b[0m",
      "\u001b[0;31mFileNotFoundError\u001b[0m                         Traceback (most recent call last)",
      "\u001b[0;32m<ipython-input-37-d0b0fa439622>\u001b[0m in \u001b[0;36m<module>\u001b[0;34m\u001b[0m\n\u001b[0;32m----> 1\u001b[0;31m \u001b[0mgrab_images\u001b[0m\u001b[0;34m(\u001b[0m\u001b[0mobjects\u001b[0m\u001b[0;34m[\u001b[0m\u001b[0;34m'id'\u001b[0m\u001b[0;34m]\u001b[0m\u001b[0;34m,\u001b[0m \u001b[0mtoken\u001b[0m\u001b[0;34m,\u001b[0m \u001b[0;34m'../collection_images'\u001b[0m\u001b[0;34m)\u001b[0m\u001b[0;34m\u001b[0m\u001b[0;34m\u001b[0m\u001b[0m\n\u001b[0m",
      "\u001b[0;32m<ipython-input-36-5999ff93fe48>\u001b[0m in \u001b[0;36mgrab_images\u001b[0;34m(object_ids, token, output_path)\u001b[0m\n\u001b[1;32m     16\u001b[0m         \u001b[0mout\u001b[0m \u001b[0;34m=\u001b[0m \u001b[0mos\u001b[0m\u001b[0;34m.\u001b[0m\u001b[0mpath\u001b[0m\u001b[0;34m.\u001b[0m\u001b[0mjoin\u001b[0m\u001b[0;34m(\u001b[0m\u001b[0moutput_path\u001b[0m\u001b[0;34m,\u001b[0m \u001b[0;34m\"%s.jpg\"\u001b[0m \u001b[0;34m%\u001b[0m \u001b[0mi\u001b[0m\u001b[0;34m)\u001b[0m\u001b[0;34m\u001b[0m\u001b[0;34m\u001b[0m\u001b[0m\n\u001b[1;32m     17\u001b[0m \u001b[0;34m\u001b[0m\u001b[0m\n\u001b[0;32m---> 18\u001b[0;31m         \u001b[0;32mwith\u001b[0m \u001b[0mopen\u001b[0m\u001b[0;34m(\u001b[0m\u001b[0mout\u001b[0m\u001b[0;34m,\u001b[0m \u001b[0;34m'wb'\u001b[0m\u001b[0;34m)\u001b[0m \u001b[0;32mas\u001b[0m \u001b[0mimg\u001b[0m\u001b[0;34m:\u001b[0m\u001b[0;34m\u001b[0m\u001b[0;34m\u001b[0m\u001b[0m\n\u001b[0m\u001b[1;32m     19\u001b[0m             \u001b[0mimg\u001b[0m\u001b[0;34m.\u001b[0m\u001b[0mwrite\u001b[0m\u001b[0;34m(\u001b[0m\u001b[0mimage\u001b[0m\u001b[0;34m.\u001b[0m\u001b[0mcontent\u001b[0m\u001b[0;34m)\u001b[0m\u001b[0;34m\u001b[0m\u001b[0;34m\u001b[0m\u001b[0m\n",
      "\u001b[0;31mFileNotFoundError\u001b[0m: [Errno 2] No such file or directory: '../collection_images/18065649.jpg'"
     ]
    }
   ],
   "source": [
    "grab_images(objects['id'], token, '../collection_images')"
   ]
  },
  {
   "cell_type": "code",
   "execution_count": 38,
   "metadata": {},
   "outputs": [],
   "source": [
    " def grab_colors(object_ids, token):\n",
    "    \n",
    "    data = []\n",
    "    \n",
    "    for i in object_ids:\n",
    "    \n",
    "        payload = {'method': 'cooperhewitt.objects.getColors',\n",
    "                  'access_token': token,\n",
    "                  'object_id': i}\n",
    "\n",
    "        r = requests.get(api, params=payload)\n",
    "\n",
    "        for color in r.json()['colors']:\n",
    "            temp = {'id': i,\n",
    "                   'true_color': color['color'],\n",
    "                   'crayola': color['closest_crayola']}\n",
    "            \n",
    "            data.append(temp)\n",
    "            \n",
    "    return pd.DataFrame.from_records(data)"
   ]
  },
  {
   "cell_type": "code",
   "execution_count": 55,
   "metadata": {},
   "outputs": [],
   "source": [
    "colors = grab_colors(objects['id'], token)"
   ]
  },
  {
   "cell_type": "code",
   "execution_count": null,
   "metadata": {},
   "outputs": [],
   "source": [
    "colors.head()"
   ]
  },
  {
   "cell_type": "markdown",
   "metadata": {},
   "source": [
    "## Web Scraping <a id=2></a>\n",
    "\n",
    "Often times data is not available in the neat & tidy formats we are used from databases and APIs. We need to out into the world and capture the data. \n",
    "\n",
    "Enter web scraping which is the process of crawling a website(s) and extracting structured information from the pages of the site(s). \n",
    "\n",
    "There are a whole host of ethical concerns with web scraping. Make sure to read a site's `robots.txt` before initating a web scraping project. "
   ]
  },
  {
   "cell_type": "code",
   "execution_count": 44,
   "metadata": {},
   "outputs": [],
   "source": [
    "import re #Regular expressions\n",
    "from bs4 import BeautifulSoup # a python HTML parser\n",
    "import requests"
   ]
  },
  {
   "cell_type": "markdown",
   "metadata": {},
   "source": [
    "### Weather Data <a id=2A></a>\n",
    "\n",
    "Let's focus on grabbing general weather data & forecasts"
   ]
  },
  {
   "cell_type": "code",
   "execution_count": 45,
   "metadata": {},
   "outputs": [
    {
     "data": {
      "text/plain": [
       "200"
      ]
     },
     "execution_count": 45,
     "metadata": {},
     "output_type": "execute_result"
    }
   ],
   "source": [
    "url = \"https://forecast.weather.gov/MapClick.php?lat=38.89435000000003&lon=-77.07514989999999#.XFzl9s9KiCc\"\n",
    "r = requests.get(url)\n",
    "r.status_code"
   ]
  },
  {
   "cell_type": "code",
   "execution_count": 46,
   "metadata": {},
   "outputs": [],
   "source": [
    "#Let's make some soup\n",
    "soup = BeautifulSoup(r.content, 'html.parser')"
   ]
  },
  {
   "cell_type": "code",
   "execution_count": 47,
   "metadata": {},
   "outputs": [],
   "source": [
    "seven_day = soup.find(id=\"seven-day-forecast\")"
   ]
  },
  {
   "cell_type": "code",
   "execution_count": 48,
   "metadata": {},
   "outputs": [
    {
     "data": {
      "text/plain": [
       "<div class=\"panel panel-default\" id=\"seven-day-forecast\">\n",
       "<div class=\"panel-heading\">\n",
       "<b>Extended Forecast for</b>\n",
       "<h2 class=\"panel-title\">\n",
       "\t    \t    Fort Myer VA\t</h2>\n",
       "</div>\n",
       "<div class=\"panel-body\" id=\"seven-day-forecast-body\">\n",
       "<div id=\"seven-day-forecast-container\"><ul class=\"list-unstyled\" id=\"seven-day-forecast-list\"><li class=\"forecast-tombstone\">\n",
       "<div class=\"tombstone-container\">\n",
       "<p class=\"period-name\">Overnight<br/><br/></p>\n",
       "<p><img alt=\"Overnight: Partly cloudy, with a low around 70. Light south wind. \" class=\"forecast-icon\" src=\"newimages/medium/nsct.png\" title=\"Overnight: Partly cloudy, with a low around 70. Light south wind. \"/></p><p class=\"short-desc\">Partly Cloudy</p><p class=\"temp temp-low\">Low: 70 °F</p></div></li><li class=\"forecast-tombstone\">\n",
       "<div class=\"tombstone-container\">\n",
       "<p class=\"period-name\">Tuesday<br/><br/></p>\n",
       "<p><img alt=\"Tuesday: Mostly sunny and hot, with a high near 97. Southwest wind 5 to 8 mph. \" class=\"forecast-icon\" src=\"newimages/medium/hot.png\" title=\"Tuesday: Mostly sunny and hot, with a high near 97. Southwest wind 5 to 8 mph. \"/></p><p class=\"short-desc\">Hot</p><p class=\"temp temp-high\">High: 97 °F</p></div></li><li class=\"forecast-tombstone\">\n",
       "<div class=\"tombstone-container\">\n",
       "<p class=\"period-name\">Tuesday<br/>Night</p>\n",
       "<p><img alt=\"Tuesday Night: A slight chance of showers and thunderstorms before 2am.  Mostly cloudy, with a low around 77. Southwest wind 3 to 7 mph.  Chance of precipitation is 20%.\" class=\"forecast-icon\" src=\"newimages/medium/nscttsra20.png\" title=\"Tuesday Night: A slight chance of showers and thunderstorms before 2am.  Mostly cloudy, with a low around 77. Southwest wind 3 to 7 mph.  Chance of precipitation is 20%.\"/></p><p class=\"short-desc\">Slight Chance<br/>T-storms</p><p class=\"temp temp-low\">Low: 77 °F</p></div></li><li class=\"forecast-tombstone\">\n",
       "<div class=\"tombstone-container\">\n",
       "<p class=\"period-name\">Wednesday<br/><br/></p>\n",
       "<p><img alt=\"Wednesday: Scattered showers and thunderstorms after 2pm.  Partly sunny, with a high near 95. Heat index values as high as 100. Northwest wind 3 to 6 mph.  Chance of precipitation is 40%.\" class=\"forecast-icon\" src=\"DualImage.php?i=sct&amp;j=scttsra&amp;jp=40\" title=\"Wednesday: Scattered showers and thunderstorms after 2pm.  Partly sunny, with a high near 95. Heat index values as high as 100. Northwest wind 3 to 6 mph.  Chance of precipitation is 40%.\"/></p><p class=\"short-desc\">Mostly Sunny<br/>then<br/>Scattered<br/>T-storms</p><p class=\"temp temp-high\">High: 95 °F</p></div></li><li class=\"forecast-tombstone\">\n",
       "<div class=\"tombstone-container\">\n",
       "<p class=\"period-name\">Wednesday<br/>Night</p>\n",
       "<p><img alt=\"Wednesday Night: Scattered showers and thunderstorms before 11pm, then scattered showers between 11pm and 2am.  Mostly cloudy, with a low around 77. Light southwest wind.  Chance of precipitation is 30%.\" class=\"forecast-icon\" src=\"DualImage.php?i=ntsra&amp;j=nshra&amp;ip=30&amp;jp=30\" title=\"Wednesday Night: Scattered showers and thunderstorms before 11pm, then scattered showers between 11pm and 2am.  Mostly cloudy, with a low around 77. Light southwest wind.  Chance of precipitation is 30%.\"/></p><p class=\"short-desc\">Scattered<br/>T-storms then<br/>Scattered<br/>Showers</p><p class=\"temp temp-low\">Low: 77 °F</p></div></li><li class=\"forecast-tombstone\">\n",
       "<div class=\"tombstone-container\">\n",
       "<p class=\"period-name\">Independence<br/>Day</p>\n",
       "<p><img alt=\"Independence Day: A chance of thunderstorms before 8am, then a chance of showers and thunderstorms after 8am.  Partly sunny, with a high near 91. Chance of precipitation is 50%.\" class=\"forecast-icon\" src=\"newimages/medium/scttsra50.png\" title=\"Independence Day: A chance of thunderstorms before 8am, then a chance of showers and thunderstorms after 8am.  Partly sunny, with a high near 91. Chance of precipitation is 50%.\"/></p><p class=\"short-desc\">Chance<br/>T-storms</p><p class=\"temp temp-high\">High: 91 °F</p></div></li><li class=\"forecast-tombstone\">\n",
       "<div class=\"tombstone-container\">\n",
       "<p class=\"period-name\">Thursday<br/>Night</p>\n",
       "<p><img alt=\"Thursday Night: A chance of showers and thunderstorms.  Mostly cloudy, with a low around 75. Chance of precipitation is 50%.\" class=\"forecast-icon\" src=\"newimages/medium/ntsra50.png\" title=\"Thursday Night: A chance of showers and thunderstorms.  Mostly cloudy, with a low around 75. Chance of precipitation is 50%.\"/></p><p class=\"short-desc\">Chance<br/>T-storms</p><p class=\"temp temp-low\">Low: 75 °F</p></div></li><li class=\"forecast-tombstone\">\n",
       "<div class=\"tombstone-container\">\n",
       "<p class=\"period-name\">Friday<br/><br/></p>\n",
       "<p><img alt=\"Friday: Showers likely, with thunderstorms also possible after 8am.  Mostly cloudy, with a high near 90. Chance of precipitation is 60%.\" class=\"forecast-icon\" src=\"newimages/medium/shra60.png\" title=\"Friday: Showers likely, with thunderstorms also possible after 8am.  Mostly cloudy, with a high near 90. Chance of precipitation is 60%.\"/></p><p class=\"short-desc\">Showers<br/>Likely</p><p class=\"temp temp-high\">High: 90 °F</p></div></li><li class=\"forecast-tombstone\">\n",
       "<div class=\"tombstone-container\">\n",
       "<p class=\"period-name\">Friday<br/>Night</p>\n",
       "<p><img alt=\"Friday Night: A chance of showers and thunderstorms.  Mostly cloudy, with a low around 76. Chance of precipitation is 50%.\" class=\"forecast-icon\" src=\"newimages/medium/ntsra50.png\" title=\"Friday Night: A chance of showers and thunderstorms.  Mostly cloudy, with a low around 76. Chance of precipitation is 50%.\"/></p><p class=\"short-desc\">Chance<br/>T-storms</p><p class=\"temp temp-low\">Low: 76 °F</p></div></li></ul></div>\n",
       "<script type=\"text/javascript\">\n",
       "// equalize forecast heights\n",
       "$(function () {\n",
       "\tvar maxh = 0;\n",
       "\t$(\".forecast-tombstone .short-desc\").each(function () {\n",
       "\t\tvar h = $(this).height();\n",
       "\t\tif (h > maxh) { maxh = h; }\n",
       "\t});\n",
       "\t$(\".forecast-tombstone .short-desc\").height(maxh);\n",
       "});\n",
       "</script> </div>\n",
       "</div>"
      ]
     },
     "execution_count": 48,
     "metadata": {},
     "output_type": "execute_result"
    }
   ],
   "source": [
    "seven_day"
   ]
  },
  {
   "cell_type": "code",
   "execution_count": 49,
   "metadata": {},
   "outputs": [
    {
     "name": "stdout",
     "output_type": "stream",
     "text": [
      "<div class=\"tombstone-container\">\n",
      " <p class=\"period-name\">\n",
      "  Overnight\n",
      "  <br/>\n",
      "  <br/>\n",
      " </p>\n",
      " <p>\n",
      "  <img alt=\"Overnight: Partly cloudy, with a low around 70. Light south wind. \" class=\"forecast-icon\" src=\"newimages/medium/nsct.png\" title=\"Overnight: Partly cloudy, with a low around 70. Light south wind. \"/>\n",
      " </p>\n",
      " <p class=\"short-desc\">\n",
      "  Partly Cloudy\n",
      " </p>\n",
      " <p class=\"temp temp-low\">\n",
      "  Low: 70 °F\n",
      " </p>\n",
      "</div>\n"
     ]
    }
   ],
   "source": [
    "forecast_items = seven_day.find_all(class_=\"tombstone-container\")\n",
    "tonight = forecast_items[0]\n",
    "print(tonight.prettify())"
   ]
  },
  {
   "cell_type": "markdown",
   "metadata": {},
   "source": [
    "##### Extracting information from the page\n",
    "\n",
    "As you can see, inside the forecast item tonight is all the information we want. There are 4 pieces of information we can extract:\n",
    "\n",
    "* The name of the forecast item — in this case, Tonight.\n",
    "* The description of the conditions — this is stored in the title property of img.\n",
    "* A short description of the conditions.\n",
    "* The temperature low.\n",
    "\n",
    "We'll extract the name of the forecast item, the short description, and the temperature first, since they're all similar:"
   ]
  },
  {
   "cell_type": "code",
   "execution_count": 84,
   "metadata": {},
   "outputs": [
    {
     "name": "stdout",
     "output_type": "stream",
     "text": [
      "Tonight\n",
      "PatchyDrizzle andPatchy Fog\n",
      "Low: 50 °F\n"
     ]
    }
   ],
   "source": [
    "period = tonight.find(class_=\"period-name\").get_text()\n",
    "short_desc = tonight.find(class_=\"short-desc\").get_text()\n",
    "temp = tonight.find(class_=\"temp\").get_text()\n",
    "\n",
    "print(period)\n",
    "print(short_desc)\n",
    "print(temp)"
   ]
  },
  {
   "cell_type": "markdown",
   "metadata": {},
   "source": [
    "Now, we can extract the `title` attribute from the `img` tag. To do this, we just treat the BeautifulSoup object like a dictionary, and pass in the attribute we want as a key:"
   ]
  },
  {
   "cell_type": "code",
   "execution_count": 85,
   "metadata": {},
   "outputs": [
    {
     "name": "stdout",
     "output_type": "stream",
     "text": [
      "Tonight: Patchy drizzle and fog.  Mostly cloudy, with a low around 50. Southeast wind around 6 mph becoming southwest after midnight. \n"
     ]
    }
   ],
   "source": [
    "img = tonight.find(\"img\")\n",
    "desc = img['title']\n",
    "\n",
    "print(desc)"
   ]
  },
  {
   "cell_type": "markdown",
   "metadata": {},
   "source": [
    "##### Extracting all the information from the page\n",
    "Now that we know how to extract each individual piece of information, we can combine our knowledge with css selectors and list comprehensions to extract everything at once.\n",
    "\n",
    "In the below code, we:\n",
    "\n",
    "* Select all items with the class `period-name` inside an item with the class `tombstone-container` in `seven_day`.\n",
    "* Use a list comprehension to call the `get_text` method on each `BeautifulSoup` object."
   ]
  },
  {
   "cell_type": "code",
   "execution_count": 86,
   "metadata": {},
   "outputs": [
    {
     "data": {
      "text/plain": [
       "['Tonight',\n",
       " 'Friday',\n",
       " 'FridayNight',\n",
       " 'Saturday',\n",
       " 'SaturdayNight',\n",
       " 'Sunday',\n",
       " 'SundayNight',\n",
       " 'Monday',\n",
       " 'MondayNight']"
      ]
     },
     "execution_count": 86,
     "metadata": {},
     "output_type": "execute_result"
    }
   ],
   "source": [
    "period_tags = seven_day.select(\".tombstone-container .period-name\")\n",
    "periods = [pt.get_text() for pt in period_tags]\n",
    "periods"
   ]
  },
  {
   "cell_type": "code",
   "execution_count": 87,
   "metadata": {},
   "outputs": [
    {
     "name": "stdout",
     "output_type": "stream",
     "text": [
      "['PatchyDrizzle andPatchy Fog', 'Slight ChanceShowers thenSunny andBreezy', 'Mostly Clear', 'Sunny', 'Mostly Clear', 'Mostly Sunny', 'Rain/SnowLikely', 'ChanceRain/Snow', 'Rain/SnowLikely']\n",
      "['Low: 50 °F', 'High: 57 °F⇓', 'Low: 25 °F', 'High: 36 °F', 'Low: 23 °F', 'High: 40 °F', 'Low: 32 °F', 'High: 41 °F', 'Low: 32 °F']\n",
      "['Tonight: Patchy drizzle and fog.  Mostly cloudy, with a low around 50. Southeast wind around 6 mph becoming southwest after midnight. ', 'Friday: A slight chance of showers before noon.  Mostly cloudy, then gradually becoming sunny, with a temperature rising to near 57 by 9am, then falling to around 47 during the remainder of the day. Breezy, with a west wind 8 to 13 mph increasing to 15 to 20 mph in the afternoon. Winds could gust as high as 34 mph.  Chance of precipitation is 20%.', 'Friday Night: Mostly clear, with a low around 25. Northwest wind 14 to 16 mph, with gusts as high as 24 mph. ', 'Saturday: Sunny, with a high near 36. Northwest wind 10 to 14 mph, with gusts as high as 21 mph. ', 'Saturday Night: Mostly clear, with a low around 23. Northwest wind around 6 mph becoming calm  in the evening. ', 'Sunday: Mostly sunny, with a high near 40.', 'Sunday Night: Rain and snow likely.  Mostly cloudy, with a low around 32. Chance of precipitation is 60%.', 'Monday: A chance of rain and snow before 1pm, then a chance of rain.  Cloudy, with a high near 41. Chance of precipitation is 50%.', 'Monday Night: Rain and snow likely.  Cloudy, with a low around 32. Chance of precipitation is 70%.']\n"
     ]
    }
   ],
   "source": [
    "short_descs = [sd.get_text() for sd in seven_day.select(\".tombstone-container .short-desc\")]\n",
    "temps = [t.get_text() for t in seven_day.select(\".tombstone-container .temp\")]\n",
    "descs = [d[\"title\"] for d in seven_day.select(\".tombstone-container img\")]\n",
    "\n",
    "print(short_descs)\n",
    "print(temps)\n",
    "print(descs)"
   ]
  },
  {
   "cell_type": "markdown",
   "metadata": {},
   "source": [
    "### Exercise\n",
    "Combine all the newly scraped data and analyze it. In order to do this, we'll call the DataFrame class, and pass in each list of items that we have. We pass them in as part of a dictionary. Each dictionary key will become a column in the DataFrame, and each list will become the values in the column."
   ]
  },
  {
   "cell_type": "code",
   "execution_count": null,
   "metadata": {},
   "outputs": [],
   "source": [
    "weather = pd.DataFrame({\n",
    "        \"period\": periods, \n",
    "        \"short_desc\": short_descs, \n",
    "        \"temp\": temps, \n",
    "        \"desc\":descs\n",
    "    })"
   ]
  },
  {
   "cell_type": "code",
   "execution_count": null,
   "metadata": {},
   "outputs": [],
   "source": [
    "weather.head()"
   ]
  },
  {
   "cell_type": "markdown",
   "metadata": {},
   "source": [
    "### Analyzing Weather"
   ]
  },
  {
   "cell_type": "code",
   "execution_count": null,
   "metadata": {},
   "outputs": [],
   "source": [
    "# Use the Series.str.extract method to insert a regular expression to pull out numeric temperature values\n",
    "temp_nums = weather[\"temp\"].str.extract(\"(?P<temp_num>\\d+)\", expand=False)\n",
    "weather[\"temp_num\"] = temp_nums.astype('int')\n",
    "temp_nums"
   ]
  },
  {
   "cell_type": "code",
   "execution_count": null,
   "metadata": {},
   "outputs": [],
   "source": [
    "\n",
    "# Find the mean of this week's temperature\n",
    "weather[\"temp_num\"].mean()"
   ]
  },
  {
   "cell_type": "code",
   "execution_count": null,
   "metadata": {},
   "outputs": [],
   "source": [
    "# Select rows that occur only at night\n",
    "is_night = weather[\"temp\"].str.contains(\"Low\")\n",
    "weather[\"is_night\"] = is_night\n",
    "is_night"
   ]
  },
  {
   "cell_type": "code",
   "execution_count": null,
   "metadata": {},
   "outputs": [],
   "source": [
    "weather[is_night]"
   ]
  },
  {
   "cell_type": "markdown",
   "metadata": {},
   "source": [
    "<a name=\"2B\"></a>\n",
    "### UFO Sightings"
   ]
  },
  {
   "cell_type": "code",
   "execution_count": null,
   "metadata": {},
   "outputs": [],
   "source": [
    "r = requests.get(\"http://www.nuforc.org/webreports/ndxe201608.html\")\n",
    "b = BeautifulSoup(r.text, 'html.parser')\n",
    "r.status_code"
   ]
  },
  {
   "cell_type": "code",
   "execution_count": null,
   "metadata": {},
   "outputs": [],
   "source": [
    "# Let's take a look at the first sighting\n",
    "for tr in b.findAll('tr', attrs = {'valign':'TOP'})[:1]:\n",
    "    # the findChildren method returns all children underneath it\n",
    "    for child in tr.findChildren():\n",
    "        print(child.text)"
   ]
  },
  {
   "cell_type": "code",
   "execution_count": null,
   "metadata": {},
   "outputs": [],
   "source": [
    "# OK, it's a bit messy, Let's clean it up\n",
    "# Looks like the first element is the date, the 4th is the city, 6th if state, 8th is shape (this ones blank)\n",
    "# 13th is the summary\n",
    "\n",
    "ufo_sightings = {\n",
    "        'Date':[],\n",
    "        'City':[],\n",
    "        'State':[],\n",
    "        'Shape':[],\n",
    "        'Summary':[]\n",
    "    }\n",
    "\n",
    "for tr in b.findAll('tr', attrs = {'valign':'TOP'}):\n",
    "    # the findChildren method returns all children underneath it\n",
    "    ufo_sighting_info = []\n",
    "    for child in tr.findChildren():\n",
    "        ufo_sighting_info.append(child.text)\n",
    "    ufo_sightings['Date'].append(ufo_sighting_info[0])\n",
    "    ufo_sightings['City'].append(ufo_sighting_info[3])\n",
    "    ufo_sightings['State'].append(ufo_sighting_info[5])\n",
    "    ufo_sightings['Shape'].append(ufo_sighting_info[7])\n",
    "    ufo_sightings['Summary'].append(ufo_sighting_info[12])\n",
    "\n",
    "pd.DataFrame(ufo_sightings).head()"
   ]
  },
  {
   "cell_type": "code",
   "execution_count": null,
   "metadata": {},
   "outputs": [],
   "source": []
  }
 ],
 "metadata": {
  "kernel_info": {
   "name": "python3"
  },
  "kernelspec": {
   "display_name": "Python 3 (ipykernel)",
   "language": "python",
   "name": "python3"
  },
  "language_info": {
   "codemirror_mode": {
    "name": "ipython",
    "version": 3
   },
   "file_extension": ".py",
   "mimetype": "text/x-python",
   "name": "python",
   "nbconvert_exporter": "python",
   "pygments_lexer": "ipython3",
   "version": "3.9.7"
  },
  "nteract": {
   "version": "0.12.3"
  }
 },
 "nbformat": 4,
 "nbformat_minor": 2
}
