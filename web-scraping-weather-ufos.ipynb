{
 "cells": [
  {
   "cell_type": "markdown",
   "metadata": {},
   "source": [
    "# Getting Data from the Web\n",
    "\n",
    "This class will provide an introduction to programmatically accessing data from websites and APIs using Python. \n",
    "\n",
    "## Table of Contents\n",
    "\n",
    "2. [Scraping](#2)\n",
    "  1. [Weather](#2A)\n",
    "  2. [UFO Sitings](#2B)"
   ]
  },
  {
   "cell_type": "markdown",
   "metadata": {},
   "source": [
    "## Web Scraping <a id=2></a>\n",
    "\n",
    "Often times data is not available in the neat & tidy formats we are used from databases and APIs. We need to out into the world and capture the data. \n",
    "\n",
    "Enter web scraping which is the process of crawling a website(s) and extracting structured information from the pages of the site(s). \n",
    "\n",
    "There are a whole host of ethical concerns with web scraping. Make sure to read a site's `robots.txt` before initating a web scraping project. "
   ]
  },
  {
   "cell_type": "code",
   "execution_count": 2,
   "metadata": {},
   "outputs": [],
   "source": [
    "import re #Regular expressions\n",
    "from bs4 import BeautifulSoup # a python HTML parser\n",
    "import requests\n",
    "import pandas as pd"
   ]
  },
  {
   "cell_type": "markdown",
   "metadata": {},
   "source": [
    "### Weather Data <a id=2A></a>\n",
    "\n",
    "Let's focus on grabbing general weather data & forecasts"
   ]
  },
  {
   "cell_type": "code",
   "execution_count": 10,
   "metadata": {},
   "outputs": [],
   "source": [
    "# White House, Washington DC\n",
    "dc_lat='38.8977'\n",
    "dc_lon='-77.0365'"
   ]
  },
  {
   "cell_type": "code",
   "execution_count": 11,
   "metadata": {},
   "outputs": [
    {
     "data": {
      "text/plain": [
       "200"
      ]
     },
     "execution_count": 11,
     "metadata": {},
     "output_type": "execute_result"
    }
   ],
   "source": [
    "url = f\"https://forecast.weather.gov/MapClick.php?lat={dc_lat}&lon={dc_lon}#.XFzl9s9KiCc\"\n",
    "r = requests.get(url)\n",
    "r.status_code"
   ]
  },
  {
   "cell_type": "code",
   "execution_count": 12,
   "metadata": {},
   "outputs": [],
   "source": [
    "#Let's make some soup\n",
    "soup = BeautifulSoup(r.content, 'html.parser')"
   ]
  },
  {
   "cell_type": "code",
   "execution_count": 13,
   "metadata": {},
   "outputs": [],
   "source": [
    "seven_day = soup.find(id=\"seven-day-forecast\")"
   ]
  },
  {
   "cell_type": "code",
   "execution_count": 14,
   "metadata": {},
   "outputs": [
    {
     "data": {
      "text/plain": [
       "<div class=\"panel panel-default\" id=\"seven-day-forecast\">\n",
       "<div class=\"panel-heading\">\n",
       "<b>Extended Forecast for</b>\n",
       "<h2 class=\"panel-title\">\n",
       "\t    \t    Washington DC\t</h2>\n",
       "</div>\n",
       "<div class=\"panel-body\" id=\"seven-day-forecast-body\">\n",
       "<div id=\"seven-day-forecast-container\"><ul class=\"list-unstyled\" id=\"seven-day-forecast-list\"><li class=\"forecast-tombstone\">\n",
       "<div class=\"tombstone-container\">\n",
       "<p class=\"period-name\">Today<br/><br/></p>\n",
       "<p><img alt=\"Today: Partly sunny, with a high near 56. Southwest wind around 5 mph becoming calm  in the afternoon. \" class=\"forecast-icon\" src=\"newimages/medium/bkn.png\" title=\"Today: Partly sunny, with a high near 56. Southwest wind around 5 mph becoming calm  in the afternoon. \"/></p><p class=\"short-desc\">Partly Sunny</p><p class=\"temp temp-high\">High: 56 °F</p></div></li><li class=\"forecast-tombstone\">\n",
       "<div class=\"tombstone-container\">\n",
       "<p class=\"period-name\">Tonight<br/><br/></p>\n",
       "<p><img alt=\"Tonight: A slight chance of showers after 1am.  Mostly cloudy, with a low around 45. Calm wind becoming southwest around 6 mph after midnight.  Chance of precipitation is 20%.\" class=\"forecast-icon\" src=\"DualImage.php?i=nbkn&amp;j=nshra&amp;jp=20\" title=\"Tonight: A slight chance of showers after 1am.  Mostly cloudy, with a low around 45. Calm wind becoming southwest around 6 mph after midnight.  Chance of precipitation is 20%.\"/></p><p class=\"short-desc\">Mostly Cloudy<br/>then Slight<br/>Chance<br/>Showers</p><p class=\"temp temp-low\">Low: 45 °F</p></div></li><li class=\"forecast-tombstone\">\n",
       "<div class=\"tombstone-container\">\n",
       "<p class=\"period-name\">Christmas<br/>Day</p>\n",
       "<p><img alt=\"Christmas Day: A chance of showers, mainly before 1pm.  Mostly cloudy, with a high near 65. Southwest wind 6 to 10 mph, with gusts as high as 22 mph.  Chance of precipitation is 30%.\" class=\"forecast-icon\" src=\"newimages/medium/shra30.png\" title=\"Christmas Day: A chance of showers, mainly before 1pm.  Mostly cloudy, with a high near 65. Southwest wind 6 to 10 mph, with gusts as high as 22 mph.  Chance of precipitation is 30%.\"/></p><p class=\"short-desc\">Chance<br/>Showers</p><p class=\"temp temp-high\">High: 65 °F</p></div></li><li class=\"forecast-tombstone\">\n",
       "<div class=\"tombstone-container\">\n",
       "<p class=\"period-name\">Saturday<br/>Night</p>\n",
       "<p><img alt=\"Saturday Night: A chance of showers before 1am.  Mostly cloudy, then gradually becoming mostly clear, with a low around 48. Southwest wind around 6 mph becoming light and variable  after midnight.  Chance of precipitation is 30%.\" class=\"forecast-icon\" src=\"newimages/medium/hi_nshwrs30.png\" title=\"Saturday Night: A chance of showers before 1am.  Mostly cloudy, then gradually becoming mostly clear, with a low around 48. Southwest wind around 6 mph becoming light and variable  after midnight.  Chance of precipitation is 30%.\"/></p><p class=\"short-desc\">Chance<br/>Showers</p><p class=\"temp temp-low\">Low: 48 °F</p></div></li><li class=\"forecast-tombstone\">\n",
       "<div class=\"tombstone-container\">\n",
       "<p class=\"period-name\">Sunday<br/><br/></p>\n",
       "<p><img alt=\"Sunday: Sunny, with a high near 59. Northwest wind 8 to 11 mph, with gusts as high as 22 mph. \" class=\"forecast-icon\" src=\"newimages/medium/few.png\" title=\"Sunday: Sunny, with a high near 59. Northwest wind 8 to 11 mph, with gusts as high as 22 mph. \"/></p><p class=\"short-desc\">Sunny</p><p class=\"temp temp-high\">High: 59 °F</p></div></li><li class=\"forecast-tombstone\">\n",
       "<div class=\"tombstone-container\">\n",
       "<p class=\"period-name\">Sunday<br/>Night</p>\n",
       "<p><img alt=\"Sunday Night: Partly cloudy, with a low around 38.\" class=\"forecast-icon\" src=\"newimages/medium/nsct.png\" title=\"Sunday Night: Partly cloudy, with a low around 38.\"/></p><p class=\"short-desc\">Partly Cloudy</p><p class=\"temp temp-low\">Low: 38 °F</p></div></li><li class=\"forecast-tombstone\">\n",
       "<div class=\"tombstone-container\">\n",
       "<p class=\"period-name\">Monday<br/><br/></p>\n",
       "<p><img alt=\"Monday: A chance of rain before 1pm.  Mostly cloudy, with a high near 47. Chance of precipitation is 30%.\" class=\"forecast-icon\" src=\"newimages/medium/ra30.png\" title=\"Monday: A chance of rain before 1pm.  Mostly cloudy, with a high near 47. Chance of precipitation is 30%.\"/></p><p class=\"short-desc\">Chance Rain</p><p class=\"temp temp-high\">High: 47 °F</p></div></li><li class=\"forecast-tombstone\">\n",
       "<div class=\"tombstone-container\">\n",
       "<p class=\"period-name\">Monday<br/>Night</p>\n",
       "<p><img alt=\"Monday Night: Mostly cloudy, with a low around 40.\" class=\"forecast-icon\" src=\"newimages/medium/nbkn.png\" title=\"Monday Night: Mostly cloudy, with a low around 40.\"/></p><p class=\"short-desc\">Mostly Cloudy</p><p class=\"temp temp-low\">Low: 40 °F</p></div></li><li class=\"forecast-tombstone\">\n",
       "<div class=\"tombstone-container\">\n",
       "<p class=\"period-name\">Tuesday<br/><br/></p>\n",
       "<p><img alt=\"Tuesday: Mostly cloudy, with a high near 53.\" class=\"forecast-icon\" src=\"newimages/medium/bkn.png\" title=\"Tuesday: Mostly cloudy, with a high near 53.\"/></p><p class=\"short-desc\">Mostly Cloudy</p><p class=\"temp temp-high\">High: 53 °F</p></div></li></ul></div>\n",
       "<script type=\"text/javascript\">\n",
       "// equalize forecast heights\n",
       "$(function () {\n",
       "\tvar maxh = 0;\n",
       "\t$(\".forecast-tombstone .short-desc\").each(function () {\n",
       "\t\tvar h = $(this).height();\n",
       "\t\tif (h > maxh) { maxh = h; }\n",
       "\t});\n",
       "\t$(\".forecast-tombstone .short-desc\").height(maxh);\n",
       "});\n",
       "</script> </div>\n",
       "</div>"
      ]
     },
     "execution_count": 14,
     "metadata": {},
     "output_type": "execute_result"
    }
   ],
   "source": [
    "seven_day"
   ]
  },
  {
   "cell_type": "code",
   "execution_count": 9,
   "metadata": {},
   "outputs": [
    {
     "name": "stdout",
     "output_type": "stream",
     "text": [
      "<div class=\"tombstone-container\">\n",
      " <p class=\"period-name\">\n",
      "  Today\n",
      "  <br/>\n",
      "  <br/>\n",
      " </p>\n",
      " <p>\n",
      "  <img alt=\"Today: Partly sunny, with a high near 56. South wind 3 to 6 mph. \" class=\"forecast-icon\" src=\"newimages/medium/bkn.png\" title=\"Today: Partly sunny, with a high near 56. South wind 3 to 6 mph. \"/>\n",
      " </p>\n",
      " <p class=\"short-desc\">\n",
      "  Partly Sunny\n",
      " </p>\n",
      " <p class=\"temp temp-high\">\n",
      "  High: 56 °F\n",
      " </p>\n",
      "</div>\n"
     ]
    }
   ],
   "source": [
    "forecast_items = seven_day.find_all(class_=\"tombstone-container\")\n",
    "tonight = forecast_items[0]\n",
    "print(tonight.prettify())"
   ]
  },
  {
   "cell_type": "markdown",
   "metadata": {},
   "source": [
    "##### Extracting information from the page\n",
    "\n",
    "As you can see, inside the forecast item tonight is all the information we want. There are 4 pieces of information we can extract:\n",
    "\n",
    "* The name of the forecast item — in this case, Tonight.\n",
    "* The description of the conditions — this is stored in the title property of img.\n",
    "* A short description of the conditions.\n",
    "* The temperature low.\n",
    "\n",
    "We'll extract the name of the forecast item, the short description, and the temperature first, since they're all similar:"
   ]
  },
  {
   "cell_type": "code",
   "execution_count": 7,
   "metadata": {},
   "outputs": [
    {
     "name": "stdout",
     "output_type": "stream",
     "text": [
      "Today\n",
      "Partly Sunny\n",
      "High: 56 °F\n"
     ]
    }
   ],
   "source": [
    "period = tonight.find(class_=\"period-name\").get_text()\n",
    "short_desc = tonight.find(class_=\"short-desc\").get_text()\n",
    "temp = tonight.find(class_=\"temp\").get_text()\n",
    "\n",
    "print(period)\n",
    "print(short_desc)\n",
    "print(temp)"
   ]
  },
  {
   "cell_type": "markdown",
   "metadata": {},
   "source": [
    "Now, we can extract the `title` attribute from the `img` tag. To do this, we just treat the BeautifulSoup object like a dictionary, and pass in the attribute we want as a key:"
   ]
  },
  {
   "cell_type": "code",
   "execution_count": 8,
   "metadata": {},
   "outputs": [
    {
     "name": "stdout",
     "output_type": "stream",
     "text": [
      "Today: Partly sunny, with a high near 56. South wind 3 to 6 mph. \n"
     ]
    }
   ],
   "source": [
    "img = tonight.find(\"img\")\n",
    "desc = img['title']\n",
    "\n",
    "print(desc)"
   ]
  },
  {
   "cell_type": "markdown",
   "metadata": {},
   "source": [
    "##### Extracting all the information from the page\n",
    "Now that we know how to extract each individual piece of information, we can combine our knowledge with css selectors and list comprehensions to extract everything at once.\n",
    "\n",
    "In the below code, we:\n",
    "\n",
    "* Select all items with the class `period-name` inside an item with the class `tombstone-container` in `seven_day`.\n",
    "* Use a list comprehension to call the `get_text` method on each `BeautifulSoup` object."
   ]
  },
  {
   "cell_type": "code",
   "execution_count": 9,
   "metadata": {},
   "outputs": [
    {
     "data": {
      "text/plain": [
       "['Today',\n",
       " 'Tonight',\n",
       " 'ChristmasDay',\n",
       " 'SaturdayNight',\n",
       " 'Sunday',\n",
       " 'SundayNight',\n",
       " 'Monday',\n",
       " 'MondayNight',\n",
       " 'Tuesday']"
      ]
     },
     "execution_count": 9,
     "metadata": {},
     "output_type": "execute_result"
    }
   ],
   "source": [
    "period_tags = seven_day.select(\".tombstone-container .period-name\")\n",
    "periods = [pt.get_text() for pt in period_tags]\n",
    "periods"
   ]
  },
  {
   "cell_type": "code",
   "execution_count": 10,
   "metadata": {},
   "outputs": [
    {
     "name": "stdout",
     "output_type": "stream",
     "text": [
      "['Partly Sunny', 'Mostly Cloudythen SlightChanceShowers', 'ChanceShowers', 'ChanceShowers', 'Sunny', 'Partly Cloudy', 'Chance Rain', 'Mostly Cloudy', 'Mostly Cloudy']\n",
      "['High: 56 °F', 'Low: 45 °F', 'High: 65 °F', 'Low: 48 °F', 'High: 59 °F', 'Low: 38 °F', 'High: 47 °F', 'Low: 40 °F', 'High: 52 °F']\n",
      "['Today: Partly sunny, with a high near 56. South wind 3 to 6 mph. ', 'Tonight: A slight chance of showers after 1am.  Mostly cloudy, with a low around 45. Southeast wind 3 to 6 mph.  Chance of precipitation is 20%.', 'Christmas Day: A chance of showers, mainly before 1pm.  Mostly cloudy, with a high near 65. Southwest wind 7 to 10 mph, with gusts as high as 23 mph.  Chance of precipitation is 30%.', 'Saturday Night: A chance of showers before 1am.  Mostly cloudy, then gradually becoming mostly clear, with a low around 48. Northwest wind around 7 mph.  Chance of precipitation is 30%.', 'Sunday: Sunny, with a high near 59. Northwest wind 9 to 13 mph, with gusts as high as 22 mph. ', 'Sunday Night: Partly cloudy, with a low around 38.', 'Monday: A chance of rain before 1pm.  Mostly cloudy, with a high near 47. Chance of precipitation is 30%.', 'Monday Night: Mostly cloudy, with a low around 40.', 'Tuesday: Mostly cloudy, with a high near 52.']\n"
     ]
    }
   ],
   "source": [
    "short_descs = [sd.get_text() for sd in seven_day.select(\".tombstone-container .short-desc\")]\n",
    "temps = [t.get_text() for t in seven_day.select(\".tombstone-container .temp\")]\n",
    "descs = [d[\"title\"] for d in seven_day.select(\".tombstone-container img\")]\n",
    "\n",
    "print(short_descs)\n",
    "print(temps)\n",
    "print(descs)"
   ]
  },
  {
   "cell_type": "markdown",
   "metadata": {},
   "source": [
    "### Exercise\n",
    "Combine all the newly scraped data and analyze it. In order to do this, we'll call the DataFrame class, and pass in each list of items that we have. We pass them in as part of a dictionary. Each dictionary key will become a column in the DataFrame, and each list will become the values in the column."
   ]
  },
  {
   "cell_type": "code",
   "execution_count": 11,
   "metadata": {},
   "outputs": [],
   "source": [
    "weather = pd.DataFrame({\n",
    "        \"period\": periods, \n",
    "        \"short_desc\": short_descs, \n",
    "        \"temp\": temps, \n",
    "        \"desc\":descs\n",
    "    })"
   ]
  },
  {
   "cell_type": "code",
   "execution_count": 12,
   "metadata": {},
   "outputs": [
    {
     "data": {
      "text/html": [
       "<div>\n",
       "<style scoped>\n",
       "    .dataframe tbody tr th:only-of-type {\n",
       "        vertical-align: middle;\n",
       "    }\n",
       "\n",
       "    .dataframe tbody tr th {\n",
       "        vertical-align: top;\n",
       "    }\n",
       "\n",
       "    .dataframe thead th {\n",
       "        text-align: right;\n",
       "    }\n",
       "</style>\n",
       "<table border=\"1\" class=\"dataframe\">\n",
       "  <thead>\n",
       "    <tr style=\"text-align: right;\">\n",
       "      <th></th>\n",
       "      <th>period</th>\n",
       "      <th>short_desc</th>\n",
       "      <th>temp</th>\n",
       "      <th>desc</th>\n",
       "    </tr>\n",
       "  </thead>\n",
       "  <tbody>\n",
       "    <tr>\n",
       "      <th>0</th>\n",
       "      <td>Today</td>\n",
       "      <td>Partly Sunny</td>\n",
       "      <td>High: 56 °F</td>\n",
       "      <td>Today: Partly sunny, with a high near 56. Sout...</td>\n",
       "    </tr>\n",
       "    <tr>\n",
       "      <th>1</th>\n",
       "      <td>Tonight</td>\n",
       "      <td>Mostly Cloudythen SlightChanceShowers</td>\n",
       "      <td>Low: 45 °F</td>\n",
       "      <td>Tonight: A slight chance of showers after 1am....</td>\n",
       "    </tr>\n",
       "    <tr>\n",
       "      <th>2</th>\n",
       "      <td>ChristmasDay</td>\n",
       "      <td>ChanceShowers</td>\n",
       "      <td>High: 65 °F</td>\n",
       "      <td>Christmas Day: A chance of showers, mainly bef...</td>\n",
       "    </tr>\n",
       "    <tr>\n",
       "      <th>3</th>\n",
       "      <td>SaturdayNight</td>\n",
       "      <td>ChanceShowers</td>\n",
       "      <td>Low: 48 °F</td>\n",
       "      <td>Saturday Night: A chance of showers before 1am...</td>\n",
       "    </tr>\n",
       "    <tr>\n",
       "      <th>4</th>\n",
       "      <td>Sunday</td>\n",
       "      <td>Sunny</td>\n",
       "      <td>High: 59 °F</td>\n",
       "      <td>Sunday: Sunny, with a high near 59. Northwest ...</td>\n",
       "    </tr>\n",
       "  </tbody>\n",
       "</table>\n",
       "</div>"
      ],
      "text/plain": [
       "          period                             short_desc         temp  \\\n",
       "0          Today                           Partly Sunny  High: 56 °F   \n",
       "1        Tonight  Mostly Cloudythen SlightChanceShowers   Low: 45 °F   \n",
       "2   ChristmasDay                          ChanceShowers  High: 65 °F   \n",
       "3  SaturdayNight                          ChanceShowers   Low: 48 °F   \n",
       "4         Sunday                                  Sunny  High: 59 °F   \n",
       "\n",
       "                                                desc  \n",
       "0  Today: Partly sunny, with a high near 56. Sout...  \n",
       "1  Tonight: A slight chance of showers after 1am....  \n",
       "2  Christmas Day: A chance of showers, mainly bef...  \n",
       "3  Saturday Night: A chance of showers before 1am...  \n",
       "4  Sunday: Sunny, with a high near 59. Northwest ...  "
      ]
     },
     "execution_count": 12,
     "metadata": {},
     "output_type": "execute_result"
    }
   ],
   "source": [
    "weather.head()"
   ]
  },
  {
   "cell_type": "markdown",
   "metadata": {},
   "source": [
    "### Analyzing Weather"
   ]
  },
  {
   "cell_type": "code",
   "execution_count": 13,
   "metadata": {},
   "outputs": [
    {
     "data": {
      "text/plain": [
       "0    56\n",
       "1    45\n",
       "2    65\n",
       "3    48\n",
       "4    59\n",
       "5    38\n",
       "6    47\n",
       "7    40\n",
       "8    52\n",
       "Name: temp_num, dtype: object"
      ]
     },
     "execution_count": 13,
     "metadata": {},
     "output_type": "execute_result"
    }
   ],
   "source": [
    "# Use the Series.str.extract method to insert a regular expression to pull out numeric temperature values\n",
    "temp_nums = weather[\"temp\"].str.extract(\"(?P<temp_num>\\d+)\", expand=False)\n",
    "weather[\"temp_num\"] = temp_nums.astype('int')\n",
    "temp_nums"
   ]
  },
  {
   "cell_type": "code",
   "execution_count": 14,
   "metadata": {},
   "outputs": [
    {
     "data": {
      "text/plain": [
       "50.0"
      ]
     },
     "execution_count": 14,
     "metadata": {},
     "output_type": "execute_result"
    }
   ],
   "source": [
    "\n",
    "# Find the mean of this week's temperature\n",
    "weather[\"temp_num\"].mean()"
   ]
  },
  {
   "cell_type": "code",
   "execution_count": 15,
   "metadata": {},
   "outputs": [
    {
     "data": {
      "text/plain": [
       "0    False\n",
       "1     True\n",
       "2    False\n",
       "3     True\n",
       "4    False\n",
       "5     True\n",
       "6    False\n",
       "7     True\n",
       "8    False\n",
       "Name: temp, dtype: bool"
      ]
     },
     "execution_count": 15,
     "metadata": {},
     "output_type": "execute_result"
    }
   ],
   "source": [
    "# Select rows that occur only at night\n",
    "is_night = weather[\"temp\"].str.contains(\"Low\")\n",
    "weather[\"is_night\"] = is_night\n",
    "is_night"
   ]
  },
  {
   "cell_type": "code",
   "execution_count": 16,
   "metadata": {},
   "outputs": [
    {
     "data": {
      "text/html": [
       "<div>\n",
       "<style scoped>\n",
       "    .dataframe tbody tr th:only-of-type {\n",
       "        vertical-align: middle;\n",
       "    }\n",
       "\n",
       "    .dataframe tbody tr th {\n",
       "        vertical-align: top;\n",
       "    }\n",
       "\n",
       "    .dataframe thead th {\n",
       "        text-align: right;\n",
       "    }\n",
       "</style>\n",
       "<table border=\"1\" class=\"dataframe\">\n",
       "  <thead>\n",
       "    <tr style=\"text-align: right;\">\n",
       "      <th></th>\n",
       "      <th>period</th>\n",
       "      <th>short_desc</th>\n",
       "      <th>temp</th>\n",
       "      <th>desc</th>\n",
       "      <th>temp_num</th>\n",
       "      <th>is_night</th>\n",
       "    </tr>\n",
       "  </thead>\n",
       "  <tbody>\n",
       "    <tr>\n",
       "      <th>1</th>\n",
       "      <td>Tonight</td>\n",
       "      <td>Mostly Cloudythen SlightChanceShowers</td>\n",
       "      <td>Low: 45 °F</td>\n",
       "      <td>Tonight: A slight chance of showers after 1am....</td>\n",
       "      <td>45</td>\n",
       "      <td>True</td>\n",
       "    </tr>\n",
       "    <tr>\n",
       "      <th>3</th>\n",
       "      <td>SaturdayNight</td>\n",
       "      <td>ChanceShowers</td>\n",
       "      <td>Low: 48 °F</td>\n",
       "      <td>Saturday Night: A chance of showers before 1am...</td>\n",
       "      <td>48</td>\n",
       "      <td>True</td>\n",
       "    </tr>\n",
       "    <tr>\n",
       "      <th>5</th>\n",
       "      <td>SundayNight</td>\n",
       "      <td>Partly Cloudy</td>\n",
       "      <td>Low: 38 °F</td>\n",
       "      <td>Sunday Night: Partly cloudy, with a low around...</td>\n",
       "      <td>38</td>\n",
       "      <td>True</td>\n",
       "    </tr>\n",
       "    <tr>\n",
       "      <th>7</th>\n",
       "      <td>MondayNight</td>\n",
       "      <td>Mostly Cloudy</td>\n",
       "      <td>Low: 40 °F</td>\n",
       "      <td>Monday Night: Mostly cloudy, with a low around...</td>\n",
       "      <td>40</td>\n",
       "      <td>True</td>\n",
       "    </tr>\n",
       "  </tbody>\n",
       "</table>\n",
       "</div>"
      ],
      "text/plain": [
       "          period                             short_desc        temp  \\\n",
       "1        Tonight  Mostly Cloudythen SlightChanceShowers  Low: 45 °F   \n",
       "3  SaturdayNight                          ChanceShowers  Low: 48 °F   \n",
       "5    SundayNight                          Partly Cloudy  Low: 38 °F   \n",
       "7    MondayNight                          Mostly Cloudy  Low: 40 °F   \n",
       "\n",
       "                                                desc  temp_num  is_night  \n",
       "1  Tonight: A slight chance of showers after 1am....        45      True  \n",
       "3  Saturday Night: A chance of showers before 1am...        48      True  \n",
       "5  Sunday Night: Partly cloudy, with a low around...        38      True  \n",
       "7  Monday Night: Mostly cloudy, with a low around...        40      True  "
      ]
     },
     "execution_count": 16,
     "metadata": {},
     "output_type": "execute_result"
    }
   ],
   "source": [
    "weather[is_night]"
   ]
  },
  {
   "cell_type": "markdown",
   "metadata": {},
   "source": [
    "<a name=\"2B\"></a>\n",
    "### UFO Sightings"
   ]
  },
  {
   "cell_type": "code",
   "execution_count": 17,
   "metadata": {},
   "outputs": [
    {
     "data": {
      "text/plain": [
       "200"
      ]
     },
     "execution_count": 17,
     "metadata": {},
     "output_type": "execute_result"
    }
   ],
   "source": [
    "r = requests.get(\"http://www.nuforc.org/webreports/ndxe201608.html\")\n",
    "b = BeautifulSoup(r.text, 'html.parser')\n",
    "r.status_code"
   ]
  },
  {
   "cell_type": "code",
   "execution_count": 18,
   "metadata": {},
   "outputs": [
    {
     "name": "stdout",
     "output_type": "stream",
     "text": [
      "8/31/16 23:40\n",
      "8/31/16 23:40\n",
      "8/31/16 23:40\n",
      "Terre Haute\n",
      "Terre Haute\n",
      "IN\n",
      "IN\n",
      "Light\n",
      "Light\n",
      "10 minutes\n",
      "10 minutes\n",
      "Four unidentified moving flashing lights that hovered in place for several minutes. Terre Haute, Indiana\n",
      "Four unidentified moving flashing lights that hovered in place for several minutes. Terre Haute, Indiana\n",
      "9/2/16\n",
      "9/2/16\n"
     ]
    }
   ],
   "source": [
    "# Let's take a look at the first sighting\n",
    "for tr in b.findAll('tr', attrs = {'valign':'TOP'})[:1]:\n",
    "    # the findChildren method returns all children underneath it\n",
    "    for child in tr.findChildren():\n",
    "        print(child.text)"
   ]
  },
  {
   "cell_type": "code",
   "execution_count": 19,
   "metadata": {},
   "outputs": [
    {
     "data": {
      "text/html": [
       "<div>\n",
       "<style scoped>\n",
       "    .dataframe tbody tr th:only-of-type {\n",
       "        vertical-align: middle;\n",
       "    }\n",
       "\n",
       "    .dataframe tbody tr th {\n",
       "        vertical-align: top;\n",
       "    }\n",
       "\n",
       "    .dataframe thead th {\n",
       "        text-align: right;\n",
       "    }\n",
       "</style>\n",
       "<table border=\"1\" class=\"dataframe\">\n",
       "  <thead>\n",
       "    <tr style=\"text-align: right;\">\n",
       "      <th></th>\n",
       "      <th>Date</th>\n",
       "      <th>City</th>\n",
       "      <th>State</th>\n",
       "      <th>Shape</th>\n",
       "      <th>Summary</th>\n",
       "    </tr>\n",
       "  </thead>\n",
       "  <tbody>\n",
       "    <tr>\n",
       "      <th>0</th>\n",
       "      <td>8/31/16 23:40</td>\n",
       "      <td>Terre Haute</td>\n",
       "      <td>IN</td>\n",
       "      <td>Light</td>\n",
       "      <td>Four unidentified moving flashing lights that ...</td>\n",
       "    </tr>\n",
       "    <tr>\n",
       "      <th>1</th>\n",
       "      <td>8/31/16 22:00</td>\n",
       "      <td>Malo</td>\n",
       "      <td>WA</td>\n",
       "      <td>Light</td>\n",
       "      <td>Strange meandering craft pulls near 180 before...</td>\n",
       "    </tr>\n",
       "    <tr>\n",
       "      <th>2</th>\n",
       "      <td>8/31/16 22:00</td>\n",
       "      <td>Corte Madera</td>\n",
       "      <td>CA</td>\n",
       "      <td>Circle</td>\n",
       "      <td>Stationary yellow gold lights seen during exte...</td>\n",
       "    </tr>\n",
       "    <tr>\n",
       "      <th>3</th>\n",
       "      <td>8/31/16 21:00</td>\n",
       "      <td>Arlington</td>\n",
       "      <td>WI</td>\n",
       "      <td>Light</td>\n",
       "      <td>Fifteen minute sighting of unusual light forma...</td>\n",
       "    </tr>\n",
       "    <tr>\n",
       "      <th>4</th>\n",
       "      <td>8/31/16 21:00</td>\n",
       "      <td>Concord</td>\n",
       "      <td>NC</td>\n",
       "      <td>Triangle</td>\n",
       "      <td>We saw 3 triangle objects in the sky with Redi...</td>\n",
       "    </tr>\n",
       "  </tbody>\n",
       "</table>\n",
       "</div>"
      ],
      "text/plain": [
       "            Date          City State     Shape  \\\n",
       "0  8/31/16 23:40   Terre Haute    IN     Light   \n",
       "1  8/31/16 22:00          Malo    WA     Light   \n",
       "2  8/31/16 22:00  Corte Madera    CA    Circle   \n",
       "3  8/31/16 21:00     Arlington    WI     Light   \n",
       "4  8/31/16 21:00       Concord    NC  Triangle   \n",
       "\n",
       "                                             Summary  \n",
       "0  Four unidentified moving flashing lights that ...  \n",
       "1  Strange meandering craft pulls near 180 before...  \n",
       "2  Stationary yellow gold lights seen during exte...  \n",
       "3  Fifteen minute sighting of unusual light forma...  \n",
       "4  We saw 3 triangle objects in the sky with Redi...  "
      ]
     },
     "execution_count": 19,
     "metadata": {},
     "output_type": "execute_result"
    }
   ],
   "source": [
    "# OK, it's a bit messy, Let's clean it up\n",
    "# Looks like the first element is the date, the 4th is the city, 6th if state, 8th is shape (this ones blank)\n",
    "# 13th is the summary\n",
    "\n",
    "ufo_sightings = {\n",
    "        'Date':[],\n",
    "        'City':[],\n",
    "        'State':[],\n",
    "        'Shape':[],\n",
    "        'Summary':[]\n",
    "    }\n",
    "\n",
    "for tr in b.findAll('tr', attrs = {'valign':'TOP'}):\n",
    "    # the findChildren method returns all children underneath it\n",
    "    ufo_sighting_info = []\n",
    "    for child in tr.findChildren():\n",
    "        ufo_sighting_info.append(child.text)\n",
    "    ufo_sightings['Date'].append(ufo_sighting_info[0])\n",
    "    ufo_sightings['City'].append(ufo_sighting_info[3])\n",
    "    ufo_sightings['State'].append(ufo_sighting_info[5])\n",
    "    ufo_sightings['Shape'].append(ufo_sighting_info[7])\n",
    "    ufo_sightings['Summary'].append(ufo_sighting_info[12])\n",
    "\n",
    "pd.DataFrame(ufo_sightings).head()"
   ]
  }
 ],
 "metadata": {
  "kernel_info": {
   "name": "python3"
  },
  "kernelspec": {
   "display_name": "Python 3 (ipykernel)",
   "language": "python",
   "name": "python3"
  },
  "language_info": {
   "codemirror_mode": {
    "name": "ipython",
    "version": 3
   },
   "file_extension": ".py",
   "mimetype": "text/x-python",
   "name": "python",
   "nbconvert_exporter": "python",
   "pygments_lexer": "ipython3",
   "version": "3.9.7"
  },
  "nteract": {
   "version": "0.12.3"
  }
 },
 "nbformat": 4,
 "nbformat_minor": 2
}
