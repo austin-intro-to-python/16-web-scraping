{
 "cells": [
  {
   "cell_type": "markdown",
   "metadata": {},
   "source": [
    "## Scraping Reddit and posting to Pandas"
   ]
  },
  {
   "cell_type": "code",
   "execution_count": 1,
   "metadata": {},
   "outputs": [],
   "source": [
    "import requests\n",
    "from bs4 import BeautifulSoup\n",
    "import pandas as pd\n",
    "from bs4 import BeautifulSoup\n",
    "from requests import get"
   ]
  },
  {
   "cell_type": "code",
   "execution_count": 2,
   "metadata": {},
   "outputs": [],
   "source": [
    "# define a scraper function\n",
    "def lovely_soup(url):\n",
    "    r = requests.get(url, headers = {'User-agent': 'Agent_Smith'})\n",
    "    return BeautifulSoup(r.text, 'lxml')"
   ]
  },
  {
   "cell_type": "code",
   "execution_count": 3,
   "metadata": {},
   "outputs": [],
   "source": [
    "# apply the function to our reddit source\n",
    "url = 'https://old.reddit.com/r/AskReddit/'\n",
    "soup = lovely_soup(url)\n",
    "# note: you can also try this one\n",
    "# url = 'https://old.reddit.com/r/Showerthoughts?sort=top&t=week'"
   ]
  },
  {
   "cell_type": "code",
   "execution_count": 4,
   "metadata": {},
   "outputs": [],
   "source": [
    "# create a list of titles\n",
    "titles = soup.findAll('p', {'class': 'title'})\n",
    "titleslist=[]\n",
    "for title in titles:\n",
    "    titleslist.append(title.text)"
   ]
  },
  {
   "cell_type": "code",
   "execution_count": 5,
   "metadata": {},
   "outputs": [],
   "source": [
    "# create a list of dates\n",
    "dates = soup.findAll('time', {'class':\"live-timestamp\"})\n",
    "dateslist=[]\n",
    "for date in dates:\n",
    "    output = str(date).split('title=\"')[1].split('2020')[0]\n",
    "    dateslist.append(output)"
   ]
  },
  {
   "cell_type": "code",
   "execution_count": 6,
   "metadata": {},
   "outputs": [],
   "source": [
    "# convert the two lists into a pandas dataframe\n",
    "df_dict={'date':dateslist, 'post':titleslist}\n",
    "working_df = pd.DataFrame(df_dict)\n",
    "pd.set_option('display.max_colwidth', 200)\n",
    "working_df['date'] = working_df['date'].str.strip()"
   ]
  },
  {
   "cell_type": "code",
   "execution_count": 7,
   "metadata": {},
   "outputs": [
    {
     "data": {
      "text/plain": [
       "'2020 Dec 24 02:58:06'"
      ]
     },
     "execution_count": 7,
     "metadata": {},
     "output_type": "execute_result"
    }
   ],
   "source": [
    "# write a function to clean up the date\n",
    "def parse_that_date(row):\n",
    "    x = row.split(' ')[1:]\n",
    "    y = ' '.join(x)\n",
    "    z = '2020 '+ y\n",
    "    return z[:20]\n",
    "parse_that_date(working_df.iloc[0,0])"
   ]
  },
  {
   "cell_type": "code",
   "execution_count": 8,
   "metadata": {},
   "outputs": [
    {
     "data": {
      "text/html": [
       "<div>\n",
       "<style scoped>\n",
       "    .dataframe tbody tr th:only-of-type {\n",
       "        vertical-align: middle;\n",
       "    }\n",
       "\n",
       "    .dataframe tbody tr th {\n",
       "        vertical-align: top;\n",
       "    }\n",
       "\n",
       "    .dataframe thead th {\n",
       "        text-align: right;\n",
       "    }\n",
       "</style>\n",
       "<table border=\"1\" class=\"dataframe\">\n",
       "  <thead>\n",
       "    <tr style=\"text-align: right;\">\n",
       "      <th></th>\n",
       "      <th>UTC_date</th>\n",
       "      <th>post</th>\n",
       "    </tr>\n",
       "  </thead>\n",
       "  <tbody>\n",
       "    <tr>\n",
       "      <th>13</th>\n",
       "      <td>2020-12-24 11:37:19</td>\n",
       "      <td>Which videogame consumed your entire life upon first play-through? (self.AskReddit)</td>\n",
       "    </tr>\n",
       "    <tr>\n",
       "      <th>17</th>\n",
       "      <td>2020-12-24 11:25:52</td>\n",
       "      <td>What do people need to understand about mental illness? (self.AskReddit)</td>\n",
       "    </tr>\n",
       "    <tr>\n",
       "      <th>19</th>\n",
       "      <td>2020-12-24 10:49:10</td>\n",
       "      <td>What are some small things your partner does that reminds you that they are still in love with you? (self.AskReddit)</td>\n",
       "    </tr>\n",
       "    <tr>\n",
       "      <th>20</th>\n",
       "      <td>2020-12-24 10:28:44</td>\n",
       "      <td>If someone came to your place and stole what’s on top of the fridge, what would they walk away with? (self.AskReddit)</td>\n",
       "    </tr>\n",
       "    <tr>\n",
       "      <th>18</th>\n",
       "      <td>2020-12-24 10:04:10</td>\n",
       "      <td>What is the most incredibly powerful/emotional without words song, you have ever heard? (self.AskReddit)</td>\n",
       "    </tr>\n",
       "  </tbody>\n",
       "</table>\n",
       "</div>"
      ],
      "text/plain": [
       "              UTC_date  \\\n",
       "13 2020-12-24 11:37:19   \n",
       "17 2020-12-24 11:25:52   \n",
       "19 2020-12-24 10:49:10   \n",
       "20 2020-12-24 10:28:44   \n",
       "18 2020-12-24 10:04:10   \n",
       "\n",
       "                                                                                                                     post  \n",
       "13                                    Which videogame consumed your entire life upon first play-through? (self.AskReddit)  \n",
       "17                                               What do people need to understand about mental illness? (self.AskReddit)  \n",
       "19   What are some small things your partner does that reminds you that they are still in love with you? (self.AskReddit)  \n",
       "20  If someone came to your place and stole what’s on top of the fridge, what would they walk away with? (self.AskReddit)  \n",
       "18               What is the most incredibly powerful/emotional without words song, you have ever heard? (self.AskReddit)  "
      ]
     },
     "execution_count": 8,
     "metadata": {},
     "output_type": "execute_result"
    }
   ],
   "source": [
    "# apply the date parsing function and sort the dataframe\n",
    "working_df['cleandate']=working_df['date'].apply(parse_that_date)\n",
    "working_df['UTC_date'] = pd.to_datetime(working_df['cleandate'])\n",
    "working_df.sort_values('UTC_date', inplace=True, ascending=False)\n",
    "final_df = working_df.drop(['date', 'cleandate'], axis=1)[['UTC_date', 'post']]\n",
    "final_df.head()"
   ]
  },
  {
   "cell_type": "code",
   "execution_count": 9,
   "metadata": {},
   "outputs": [],
   "source": [
    "# write pandas df as html file \n",
    "html = final_df.to_html(index=False) \n",
    "text_file = open(\"docs/redditposts.html\", \"w\") \n",
    "text_file.write(html) \n",
    "text_file.close() "
   ]
  },
  {
   "cell_type": "code",
   "execution_count": 10,
   "metadata": {},
   "outputs": [],
   "source": [
    "# inspiration for this notebook:\n",
    "# https://recycledrobot.co.uk/words/?web-scraping"
   ]
  }
 ],
 "metadata": {
  "kernelspec": {
   "display_name": "Python 3 (ipykernel)",
   "language": "python",
   "name": "python3"
  },
  "language_info": {
   "codemirror_mode": {
    "name": "ipython",
    "version": 3
   },
   "file_extension": ".py",
   "mimetype": "text/x-python",
   "name": "python",
   "nbconvert_exporter": "python",
   "pygments_lexer": "ipython3",
   "version": "3.9.7"
  }
 },
 "nbformat": 4,
 "nbformat_minor": 2
}
