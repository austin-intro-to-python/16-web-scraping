{
 "cells": [
  {
   "cell_type": "markdown",
   "id": "4321a47c",
   "metadata": {},
   "source": [
    "# Web Scraping\n",
    "\n",
    "To gather our review data to understand great whiskeys, we will scrape Whisky Advocate's over 4,000 reviews. We will use python to access the reviews on the web and extract the relevant information from directly from the site's html."
   ]
  },
  {
   "cell_type": "markdown",
   "id": "6849959f",
   "metadata": {},
   "source": [
    "https://www.whiskyadvocate.com/"
   ]
  },
  {
   "cell_type": "code",
   "execution_count": 45,
   "id": "1b72cb04",
   "metadata": {},
   "outputs": [],
   "source": [
    "import requests\n",
    "from bs4 import BeautifulSoup\n",
    "import pandas as pd\n",
    "import numpy as np\n",
    "import matplotlib.pyplot as plt"
   ]
  },
  {
   "cell_type": "code",
   "execution_count": 4,
   "id": "fd2f22f2",
   "metadata": {},
   "outputs": [],
   "source": [
    "# make a list of score ranges\n",
    "score_range = ['95-100', '90-94', '80-89', '70-79', '60-69']"
   ]
  },
  {
   "cell_type": "code",
   "execution_count": 9,
   "id": "de355eee",
   "metadata": {},
   "outputs": [],
   "source": [
    "url = f\"http://whiskyadvocate.com/ratings-reviews/?search=&submit=&brand_id=0&rating={score}&price=0&category=0&styles_id=0&issue_id=0\""
   ]
  },
  {
   "cell_type": "code",
   "execution_count": null,
   "id": "b211b1f4",
   "metadata": {},
   "outputs": [],
   "source": [
    "# build a list of urls using a for-loop\n",
    "urls = []\n",
    "for score in score_range:\n",
    "    urls.append(f\"http://whiskyadvocate.com/ratings-reviews/?search=&submit=&brand_id=0&rating={score}&price=0&category=0&styles_id=0&issue_id=0\")"
   ]
  },
  {
   "cell_type": "code",
   "execution_count": 12,
   "id": "37a49826",
   "metadata": {},
   "outputs": [
    {
     "data": {
      "text/plain": [
       "['http://whiskyadvocate.com/ratings-reviews/?search=&submit=&brand_id=0&rating=60-69&price=0&category=0&styles_id=0&issue_id=0',\n",
       " 'http://whiskyadvocate.com/ratings-reviews/?search=&submit=&brand_id=0&rating=60-69&price=0&category=0&styles_id=0&issue_id=0',\n",
       " 'http://whiskyadvocate.com/ratings-reviews/?search=&submit=&brand_id=0&rating=60-69&price=0&category=0&styles_id=0&issue_id=0',\n",
       " 'http://whiskyadvocate.com/ratings-reviews/?search=&submit=&brand_id=0&rating=60-69&price=0&category=0&styles_id=0&issue_id=0',\n",
       " 'http://whiskyadvocate.com/ratings-reviews/?search=&submit=&brand_id=0&rating=60-69&price=0&category=0&styles_id=0&issue_id=0']"
      ]
     },
     "execution_count": 12,
     "metadata": {},
     "output_type": "execute_result"
    }
   ],
   "source": [
    "# build a list of urls using list comprehension\n",
    "urls = [url for score in score_range]\n",
    "urls"
   ]
  },
  {
   "cell_type": "code",
   "execution_count": 16,
   "id": "4cb07ad6",
   "metadata": {},
   "outputs": [],
   "source": [
    "# make a list of tags\n",
    "tags = ['ratingValue', 'name', 'category', 'priceCurrency', \n",
    " 'price', 'description', 'author']"
   ]
  },
  {
   "cell_type": "code",
   "execution_count": 17,
   "id": "d4143cfb",
   "metadata": {},
   "outputs": [],
   "source": [
    "def get_review(review):\n",
    "    data = {}\n",
    "    for t in tags:\n",
    "        data[t] = review.find(itemprop=t).text\n",
    "    return data"
   ]
  },
  {
   "cell_type": "code",
   "execution_count": 18,
   "id": "2acc6ad0",
   "metadata": {},
   "outputs": [],
   "source": [
    "def whiskey(urls):\n",
    "    \n",
    "    whiskey_reviews = list()\n",
    "    \n",
    "    for u in urls:\n",
    "        r = requests.get(u)\n",
    "        \n",
    "        soup = BeautifulSoup(r.text, \"lxml\")\n",
    "        ratings = soup.find(class_=\"ratings-grid-holder\")\n",
    "        \n",
    "        ratings = ratings.find_all(\"article\")\n",
    "        \n",
    "        reviews = [get_review(r) for r in ratings]\n",
    "        \n",
    "        whiskey_reviews += reviews\n",
    "    \n",
    "    return whiskey_reviews"
   ]
  },
  {
   "cell_type": "code",
   "execution_count": 19,
   "id": "279870bf",
   "metadata": {},
   "outputs": [],
   "source": [
    "data = whiskey(urls)"
   ]
  },
  {
   "cell_type": "code",
   "execution_count": 24,
   "id": "c41ccea1",
   "metadata": {},
   "outputs": [
    {
     "name": "stdout",
     "output_type": "stream",
     "text": [
      "55\n"
     ]
    }
   ],
   "source": [
    "print(len(data))"
   ]
  },
  {
   "cell_type": "code",
   "execution_count": 25,
   "id": "9793b671",
   "metadata": {},
   "outputs": [
    {
     "data": {
      "text/plain": [
       "{'ratingValue': '69',\n",
       " 'name': 'Cabin Fever, 40%',\n",
       " 'category': 'Flavored Whisky & Liqueurs',\n",
       " 'priceCurrency': '$',\n",
       " 'price': '21',\n",
       " 'description': '\\nReal maple syrup has an earthy, woodsy aroma; maple flavoring has strong overtones of coconut, and so does Cabin Fever. The nose evokes dried, sweetened baking coconut, while the sweet and spicy palate is a hot, liquid, coconut macaroon. Peppery notes suggest that it’s whisky, but without any traces of barrel aging that’s as close as you get. Best part? The long, spicy finish with its confection-sweet coconut.',\n",
       " 'author': 'Davin de Kergommeaux'}"
      ]
     },
     "execution_count": 25,
     "metadata": {},
     "output_type": "execute_result"
    }
   ],
   "source": [
    "data[0]"
   ]
  },
  {
   "cell_type": "code",
   "execution_count": 27,
   "id": "ed5b61f6",
   "metadata": {},
   "outputs": [
    {
     "data": {
      "text/plain": [
       "dict_keys(['ratingValue', 'name', 'category', 'priceCurrency', 'price', 'description', 'author'])"
      ]
     },
     "execution_count": 27,
     "metadata": {},
     "output_type": "execute_result"
    }
   ],
   "source": [
    "data[0].keys()"
   ]
  },
  {
   "cell_type": "code",
   "execution_count": 28,
   "id": "1532c69c",
   "metadata": {},
   "outputs": [
    {
     "data": {
      "text/plain": [
       "'\\nReal maple syrup has an earthy, woodsy aroma; maple flavoring has strong overtones of coconut, and so does Cabin Fever. The nose evokes dried, sweetened baking coconut, while the sweet and spicy palate is a hot, liquid, coconut macaroon. Peppery notes suggest that it’s whisky, but without any traces of barrel aging that’s as close as you get. Best part? The long, spicy finish with its confection-sweet coconut.'"
      ]
     },
     "execution_count": 28,
     "metadata": {},
     "output_type": "execute_result"
    }
   ],
   "source": [
    "data[0]['description']"
   ]
  },
  {
   "cell_type": "markdown",
   "id": "283ac784",
   "metadata": {},
   "source": [
    "## Data Exploration"
   ]
  },
  {
   "cell_type": "code",
   "execution_count": 32,
   "id": "62d20d20",
   "metadata": {},
   "outputs": [
    {
     "data": {
      "text/plain": [
       "(55, 7)"
      ]
     },
     "execution_count": 32,
     "metadata": {},
     "output_type": "execute_result"
    }
   ],
   "source": [
    "df = pd.DataFrame.from_records(data)\n",
    "df.shape"
   ]
  },
  {
   "cell_type": "code",
   "execution_count": 33,
   "id": "4d90d57b",
   "metadata": {},
   "outputs": [
    {
     "data": {
      "text/html": [
       "<div>\n",
       "<style scoped>\n",
       "    .dataframe tbody tr th:only-of-type {\n",
       "        vertical-align: middle;\n",
       "    }\n",
       "\n",
       "    .dataframe tbody tr th {\n",
       "        vertical-align: top;\n",
       "    }\n",
       "\n",
       "    .dataframe thead th {\n",
       "        text-align: right;\n",
       "    }\n",
       "</style>\n",
       "<table border=\"1\" class=\"dataframe\">\n",
       "  <thead>\n",
       "    <tr style=\"text-align: right;\">\n",
       "      <th></th>\n",
       "      <th>ratingValue</th>\n",
       "      <th>name</th>\n",
       "      <th>category</th>\n",
       "      <th>priceCurrency</th>\n",
       "      <th>price</th>\n",
       "      <th>description</th>\n",
       "      <th>author</th>\n",
       "    </tr>\n",
       "  </thead>\n",
       "  <tbody>\n",
       "    <tr>\n",
       "      <th>0</th>\n",
       "      <td>69</td>\n",
       "      <td>Cabin Fever, 40%</td>\n",
       "      <td>Flavored Whisky &amp; Liqueurs</td>\n",
       "      <td>$</td>\n",
       "      <td>21</td>\n",
       "      <td>\\nReal maple syrup has an earthy, woodsy aroma...</td>\n",
       "      <td>Davin de Kergommeaux</td>\n",
       "    </tr>\n",
       "    <tr>\n",
       "      <th>1</th>\n",
       "      <td>69</td>\n",
       "      <td>Rogue Dead Guy American Whiskey, 40%</td>\n",
       "      <td>American Whiskey</td>\n",
       "      <td>$</td>\n",
       "      <td>40</td>\n",
       "      <td>\\nI love Rogue beers, as well as Rogue’s attit...</td>\n",
       "      <td>John Hansell</td>\n",
       "    </tr>\n",
       "  </tbody>\n",
       "</table>\n",
       "</div>"
      ],
      "text/plain": [
       "  ratingValue                                  name  \\\n",
       "0          69                      Cabin Fever, 40%   \n",
       "1          69  Rogue Dead Guy American Whiskey, 40%   \n",
       "\n",
       "                     category priceCurrency price  \\\n",
       "0  Flavored Whisky & Liqueurs             $    21   \n",
       "1            American Whiskey             $    40   \n",
       "\n",
       "                                         description                author  \n",
       "0  \\nReal maple syrup has an earthy, woodsy aroma...  Davin de Kergommeaux  \n",
       "1  \\nI love Rogue beers, as well as Rogue’s attit...          John Hansell  "
      ]
     },
     "execution_count": 33,
     "metadata": {},
     "output_type": "execute_result"
    }
   ],
   "source": [
    "df.head(2)"
   ]
  },
  {
   "cell_type": "code",
   "execution_count": 34,
   "id": "a3c2116a",
   "metadata": {},
   "outputs": [
    {
     "data": {
      "text/plain": [
       "count    55.000000\n",
       "mean     65.545455\n",
       "std       3.172907\n",
       "min      60.000000\n",
       "25%      63.000000\n",
       "50%      67.000000\n",
       "75%      68.000000\n",
       "max      69.000000\n",
       "Name: ratingValue, dtype: float64"
      ]
     },
     "execution_count": 34,
     "metadata": {},
     "output_type": "execute_result"
    }
   ],
   "source": [
    "df['ratingValue'].astype('int').describe()"
   ]
  },
  {
   "cell_type": "code",
   "execution_count": 35,
   "id": "0d30abc5",
   "metadata": {},
   "outputs": [
    {
     "data": {
      "text/plain": [
       "Flavored Whisky & Liqueurs    25\n",
       "American Whiskey               5\n",
       "Canadian                       5\n",
       "White Whiskey                  5\n",
       "Single Malt Scotch             5\n",
       "Blended American Whiskey       5\n",
       "Bourbon/Tennessee              5\n",
       "Name: category, dtype: int64"
      ]
     },
     "execution_count": 35,
     "metadata": {},
     "output_type": "execute_result"
    }
   ],
   "source": [
    "df['category'].value_counts()"
   ]
  },
  {
   "cell_type": "code",
   "execution_count": 36,
   "id": "9aa2fa31",
   "metadata": {},
   "outputs": [],
   "source": [
    "df['p2'] = df['price'].astype('str').replace(\",\",\"\").replace(\"$\", \"\")"
   ]
  },
  {
   "cell_type": "code",
   "execution_count": 37,
   "id": "00f4aec7",
   "metadata": {},
   "outputs": [
    {
     "data": {
      "text/plain": [
       "count    55.000000\n",
       "mean     29.818182\n",
       "std      14.284271\n",
       "min      16.000000\n",
       "25%      17.000000\n",
       "50%      22.000000\n",
       "75%      40.000000\n",
       "max      60.000000\n",
       "Name: p2, dtype: float64"
      ]
     },
     "execution_count": 37,
     "metadata": {},
     "output_type": "execute_result"
    }
   ],
   "source": [
    "df['p2'].astype('float').describe()"
   ]
  },
  {
   "cell_type": "code",
   "execution_count": 39,
   "id": "b93bf0f9",
   "metadata": {},
   "outputs": [
    {
     "name": "stderr",
     "output_type": "stream",
     "text": [
      "/var/folders/2l/f34xc_012glb01q2tq40qxgw0000gn/T/ipykernel_59365/714083441.py:1: FutureWarning: The default value of regex will change from True to False in a future version. In addition, single character regular expressions will *not* be treated as literal strings when regex=True.\n",
      "  df['p2'].str.replace(\"$\", \"\").str.replace(\"/set\",\"\").astype('float')\n"
     ]
    },
    {
     "data": {
      "text/plain": [
       "0    21\n",
       "1    40\n",
       "2    20\n",
       "3    16\n",
       "4    22\n",
       "Name: p2, dtype: object"
      ]
     },
     "execution_count": 39,
     "metadata": {},
     "output_type": "execute_result"
    }
   ],
   "source": [
    "df['p2'].str.replace(\"$\", \"\").str.replace(\"/set\",\"\").astype('float')\n",
    "df['p2'].head()"
   ]
  },
  {
   "cell_type": "code",
   "execution_count": 40,
   "id": "1140a386",
   "metadata": {},
   "outputs": [],
   "source": [
    "df['price'] = pd.to_numeric(df['price'], errors='coerce')"
   ]
  },
  {
   "cell_type": "code",
   "execution_count": 41,
   "id": "97478f87",
   "metadata": {},
   "outputs": [
    {
     "data": {
      "text/plain": [
       "<AxesSubplot:xlabel='ratingValue', ylabel='price'>"
      ]
     },
     "execution_count": 41,
     "metadata": {},
     "output_type": "execute_result"
    },
    {
     "data": {
      "image/png": "[encoded data removed]",
      "text/plain": [
       "<Figure size 432x288 with 1 Axes>"
      ]
     },
     "metadata": {
      "needs_background": "light"
     },
     "output_type": "display_data"
    }
   ],
   "source": [
    "import seaborn as sns\n",
    "\n",
    "sns.regplot(x=df[df['price'] < 20000]['ratingValue'].astype('float'), y=df[df['price'] < 20000]['price'])"
   ]
  },
  {
   "cell_type": "code",
   "execution_count": 49,
   "id": "dff09837",
   "metadata": {},
   "outputs": [
    {
     "name": "stderr",
     "output_type": "stream",
     "text": [
      "/usr/local/anaconda3/lib/python3.9/site-packages/seaborn/distributions.py:2619: FutureWarning: `distplot` is a deprecated function and will be removed in a future version. Please adapt your code to use either `displot` (a figure-level function with similar flexibility) or `histplot` (an axes-level function for histograms).\n",
      "  warnings.warn(msg, FutureWarning)\n"
     ]
    },
    {
     "data": {
      "text/plain": [
       "<AxesSubplot:xlabel='pert_alcohol', ylabel='Density'>"
      ]
     },
     "execution_count": 49,
     "metadata": {},
     "output_type": "execute_result"
    },
    {
     "data": {
      "image/png": "[encoded data removed]",
      "text/plain": [
       "<Figure size 432x288 with 1 Axes>"
      ]
     },
     "metadata": {
      "needs_background": "light"
     },
     "output_type": "display_data"
    }
   ],
   "source": [
    "def  is_it_perct(name):\n",
    "    #print(name)\n",
    "    last_seg = name.split()[-1]\n",
    "    if last_seg[-1:] == \"%\":\n",
    "        return last_seg[:-1]\n",
    "    else:\n",
    "        return None\n",
    "df['pert_alcohol'] = df['name'].apply(is_it_perct)\n",
    "df['pert_alcohol'] = pd.to_numeric(df['pert_alcohol'], errors='coerce')\n",
    "\n",
    "sns.distplot(df[-df['pert_alcohol'].isnull()]['pert_alcohol'], bins=25)"
   ]
  },
  {
   "cell_type": "code",
   "execution_count": 46,
   "id": "711cb10e",
   "metadata": {},
   "outputs": [
    {
     "data": {
      "image/png": "[encoded data removed]",
      "text/plain": [
       "<Figure size 432x288 with 1 Axes>"
      ]
     },
     "metadata": {
      "needs_background": "light"
     },
     "output_type": "display_data"
    }
   ],
   "source": [
    "types = df['category'].value_counts()[:9]\n",
    "\n",
    "height = types.tolist()\n",
    "bars = types.index.tolist()\n",
    "y_pos = np.arange(len(bars))\n",
    "\n",
    "plt.bar(y_pos, height)\n",
    "plt.xticks(y_pos, bars, rotation='vertical')\n",
    "\n",
    "plt.show()"
   ]
  }
 ],
 "metadata": {
  "kernelspec": {
   "display_name": "Python 3 (ipykernel)",
   "language": "python",
   "name": "python3"
  },
  "language_info": {
   "codemirror_mode": {
    "name": "ipython",
    "version": 3
   },
   "file_extension": ".py",
   "mimetype": "text/x-python",
   "name": "python",
   "nbconvert_exporter": "python",
   "pygments_lexer": "ipython3",
   "version": "3.9.7"
  }
 },
 "nbformat": 4,
 "nbformat_minor": 5
}
